{
 "cells": [
  {
   "cell_type": "markdown",
   "metadata": {},
   "source": [
    "# 0. Why Agent-Based Modeling ?"
   ]
  },
  {
   "cell_type": "markdown",
   "metadata": {},
   "source": [
    "* 싸이그래머+싸이지먼트/싸이폴리 : 파트 2 - ABM[1]\n",
    "* 김무성"
   ]
  },
  {
   "cell_type": "markdown",
   "metadata": {},
   "source": [
    "# Contents\n",
    "* A Thought Experiment\n",
    "* Complex Systems and Emergence\n",
    "* Understanding Complex Systems and Emergence\n",
    "     - Exmaple 1 : Integrative Understanding\n",
    "     - Example 2 : Differential Understanding\n",
    "* Agent-Based Modeling ad Representational Infrastructure for Restructurations\n",
    "    - Example : Predator-Prey Interactions\n",
    "    - Example : Forest Fires"
   ]
  },
  {
   "cell_type": "markdown",
   "metadata": {},
   "source": [
    "#### 참고\n",
    "* [2] \"A 30min Introduction to Agent-Based Modelling\" for GORS - http://www.slideshare.net/BruceEdmonds/gors-intro-abm\n",
    "* [3] Agent Based Models - http://www.slideshare.net/DavidSherlock/agent-based-models\n",
    "re.net/DavidSherlock/agent-based-models\n",
    "* [4] Introduction to Agent-based Modelling - http://www.slideshare.net/urbanmovements/introduction-to-agentbased-modelling"
   ]
  },
  {
   "cell_type": "markdown",
   "metadata": {},
   "source": [
    "#### complex system\n",
    "* As the world becomes more interconnected and complex, our ability to understand must also. Simple models no longer suffice to answer many of our questions. The advent of widespread fast computation has enabled us to work on more comploex problems and to build and anlyze more complex models. <font color=\"red\">This has generated a new field of knowledge called \"complex systems\"</font>\n",
    "* Ths book is an introduction to one of the prmary methdologies that has arisen from complex systems research.\n",
    "* <font color=\"red\">this methodology, called agent-based modeling, is a new way of doing science by conducting computer-based experiments</font>.\n",
    "\n",
    "#### data\n",
    "The rise of computation has also led to an explosin in new data. The amount of new knowledge and data about our world is growing exponentially. \n",
    "\n",
    "This is true regardless of the subject area. \n",
    "* From physics to chemistry, \n",
    "* from biology to ecology, \n",
    "* from policitcal science to economics, \n",
    "* from management science to marketing, \n",
    "\n",
    "scientists and researchers are routinely gathering data at a rate that far outstrips that of scientists in the past. \n",
    "\n",
    "#### questions\n",
    "As this new data is captured, we can begin to ask questions about complex systems that hitherto could not be meaningfully ask with an expectation of data-driven answers. For example, \n",
    "\n",
    "* \"How do multiple species interact and compete to form a stable ecosystem?\" \n",
    "* \"How do political institutions affect individual decisions, especially when those individuals have the ability to manipulate political institutions?\" or\n",
    "* \"How can we engineer robots that can work and interect with complex social processes?\"\n",
    "\n",
    "#### answers\n",
    "As these complex questions are asked, \n",
    "* future scientists,\n",
    "* researchers,\n",
    "* engineers,\n",
    "* business entrepreneurs,\n",
    "* politicians, and\n",
    "* practitioners \n",
    "\n",
    "will be called on to anser them.\n",
    "\n",
    "#### toolkit\n",
    "* The toolkit of complex systems methods will become a necessity for thease individuals, and <font color=\"red\">agent-based modeling(ABM) will play a central role in that toolkit</font>.\n",
    "* Through this book, we will provide an introduction to ABM for anyone interested in answering questions about the complex systems that are embedded in natural, social, and engineered contexts.\n",
    "\n",
    "#### NetLogo\n",
    "* <font color=\"red\">NetLog</font> = \"Low Threshold, No Ceiling\""
   ]
  },
  {
   "cell_type": "markdown",
   "metadata": {},
   "source": [
    "<img src=\"http://jasss.soc.surrey.ac.uk/12/1/1/fig1.jpg\" width=600 />"
   ]
  },
  {
   "cell_type": "markdown",
   "metadata": {},
   "source": [
    "# A Thought Experiment"
   ]
  },
  {
   "cell_type": "markdown",
   "metadata": {},
   "source": [
    "* experiment\n",
    "* structuration\n",
    "* restructuration\n",
    "* algebra"
   ]
  },
  {
   "cell_type": "markdown",
   "metadata": {},
   "source": [
    "# Complex Systems and Emergence"
   ]
  },
  {
   "cell_type": "markdown",
   "metadata": {},
   "source": [
    "* interaction (interactions of multiple distributed elements) \n",
    "* self-organizes\n",
    "* emergent phenomenon"
   ]
  },
  {
   "cell_type": "markdown",
   "metadata": {},
   "source": [
    "<img src=\"http://image.slidesharecdn.com/abmtalk-130420065548-phpapp01/95/introduction-to-agentbased-modelling-4-638.jpg?cb=1366441003\" width=600 />"
   ]
  },
  {
   "cell_type": "markdown",
   "metadata": {},
   "source": [
    "# Understanding Complex Systems and Emergence\n",
    "* Exmaple 1 : Integrative Understanding\n",
    "* Example 2 : Differential Understanding"
   ]
  },
  {
   "cell_type": "markdown",
   "metadata": {},
   "source": [
    "Emergence, in particular, presents two fundamental and distict challenges\n",
    "* integrative understanding\n",
    "    - The first dificulty lies in gtrying to figure out the aggregate pattern when one knows how individual elements behave.\n",
    "    - We sometiems call this integrative understanding, as it parallels the cumulative integration of small differences in calculus.\n",
    "* differential understanding\n",
    "    - A second difficulty aries when the aggregate pattern is known and one is trying to find the behavior of the elements that could generate the pattern.\n",
    "    - We sometimes call this differential understanding(aka compositional understanding), as it parallels the search in calculus for the small elements that produce an aggregate graph when accumulated."
   ]
  },
  {
   "cell_type": "markdown",
   "metadata": {},
   "source": [
    "## Exmaple 1 : Integrative Understanding"
   ]
  },
  {
   "cell_type": "markdown",
   "metadata": {},
   "source": [
    "<img src=\"figures/cap0.1.png\" width=600 />"
   ]
  },
  {
   "cell_type": "markdown",
   "metadata": {},
   "source": [
    "<img src=\"figures/cap0.2.png\" width=600 />"
   ]
  },
  {
   "cell_type": "markdown",
   "metadata": {},
   "source": [
    "## Example 2 : Differential Understanding"
   ]
  },
  {
   "cell_type": "markdown",
   "metadata": {},
   "source": [
    "<img src=\"figures/cap0.3.png\" width=600 />"
   ]
  },
  {
   "cell_type": "markdown",
   "metadata": {},
   "source": [
    "<img src=\"figures/cap0.4.png\" width=600 />"
   ]
  },
  {
   "cell_type": "markdown",
   "metadata": {},
   "source": [
    "<img src=\"figures/cap0.5.png\" width=600 />"
   ]
  },
  {
   "cell_type": "markdown",
   "metadata": {},
   "source": [
    "DC mindset\n",
    "* D component\n",
    "* C component"
   ]
  },
  {
   "cell_type": "markdown",
   "metadata": {},
   "source": [
    "thinkg in levels\n",
    "* Emergent phenomena\n",
    "    - at lest two levels\n",
    "    - the level of the individual elements\n",
    "    - the level of system or aggregate patterns"
   ]
  },
  {
   "cell_type": "markdown",
   "metadata": {},
   "source": [
    "DC mindeset examples\n",
    "* economic marekts\n",
    "* predator-prey relations\n",
    "* slime-mold behavior\n",
    "* human housing patterns\n",
    "* growth of crystals\n",
    "* insect foraging"
   ]
  },
  {
   "cell_type": "markdown",
   "metadata": {},
   "source": [
    "# Agent-Based Modeling ad Representational Infrastructure for Restructurations\n",
    "* Example : Predator-Prey Interactions\n",
    "* Example : Forest Fires"
   ]
  },
  {
   "cell_type": "markdown",
   "metadata": {},
   "source": [
    "<img src=\"http://jasss.soc.surrey.ac.uk/12/1/1/fig1.jpg\" width=600 />"
   ]
  },
  {
   "cell_type": "markdown",
   "metadata": {},
   "source": [
    "## Example : Predator-Prey Interactions"
   ]
  },
  {
   "cell_type": "markdown",
   "metadata": {},
   "source": [
    "#### poulation dynamcis of a single predator and prey\n"
   ]
  },
  {
   "cell_type": "markdown",
   "metadata": {},
   "source": [
    "* Lotka-Volterra differential equations : "
   ]
  },
  {
   "cell_type": "markdown",
   "metadata": {},
   "source": [
    "<img src=\"figures/cap0.6.png\" />"
   ]
  },
  {
   "cell_type": "markdown",
   "metadata": {},
   "source": [
    "* Agent-Based Modeling formation : "
   ]
  },
  {
   "cell_type": "markdown",
   "metadata": {},
   "source": [
    "<img src=\"figures/cap0.7.png\" width=600 />"
   ]
  },
  {
   "cell_type": "markdown",
   "metadata": {},
   "source": [
    "## Example : Forest Fires"
   ]
  },
  {
   "cell_type": "markdown",
   "metadata": {},
   "source": [
    "<img src=\"figures/cap0.8.png\" />"
   ]
  },
  {
   "cell_type": "markdown",
   "metadata": {},
   "source": [
    "<img src=\"figures/cap0.9.png\"  />"
   ]
  },
  {
   "cell_type": "markdown",
   "metadata": {},
   "source": [
    "<img src=\"figures/cap0.10.png\" width=600 />"
   ]
  },
  {
   "cell_type": "markdown",
   "metadata": {},
   "source": [
    "# 1. What is Agent-Based Modeling?"
   ]
  },
  {
   "cell_type": "markdown",
   "metadata": {},
   "source": [
    "# Contents\n",
    "* Ants \n",
    "    - Creating the Ant Foraging Model\n",
    "    - Results and Observations from the Ant Model\n",
    "    - What Good Is an Ant Model?\n",
    "* What Is Agent-Based Modeling?\n",
    "    - Agent-Based Models vs. Other Modeling Forms\n",
    "    - Randomness vs. Determinism\n",
    "    - When Is ABM Most Beneficial?\n",
    "    - Trade-offs of ABM\n",
    "    - What is Needed to Understand ABM?\n",
    "* Conclusion\n",
    "* Exploratoins\n",
    "    - Beginner NetLogo Explorations\n",
    "    - Ant and Other Model Explorations\n",
    "    - Concept Explorations\n",
    "    - NetLogo Explorations"
   ]
  },
  {
   "cell_type": "markdown",
   "metadata": {},
   "source": [
    "# Ants \n",
    "* Creating the Ant Foraging Model\n",
    "* Results and Observations from the Ant Model\n",
    "* What Good Is an Ant Model?"
   ]
  },
  {
   "cell_type": "markdown",
   "metadata": {},
   "source": [
    "<img src=\"http://www.anylogic.com/upload/medialibrary/b34/b348de15a0a5c94f9c35b60b5040256f.jpg\" />"
   ]
  },
  {
   "cell_type": "markdown",
   "metadata": {},
   "source": [
    "## Creating the Ant Foraging Model"
   ]
  },
  {
   "cell_type": "markdown",
   "metadata": {},
   "source": [
    "<img src=\"figures/cap0.11.png\" width=600 />"
   ]
  },
  {
   "cell_type": "markdown",
   "metadata": {},
   "source": [
    "#### We describe the rules from the point of view of an individual nat\n",
    "1. If I am not carrying food, I check if there ...\n",
    "2. If I am carrying food, I turn back toward the ....\n",
    "3. I turn randomly a small amount and move forward a step"
   ]
  },
  {
   "cell_type": "markdown",
   "metadata": {},
   "source": [
    "#### NetLogo code"
   ]
  },
  {
   "cell_type": "code",
   "execution_count": null,
   "metadata": {
    "collapsed": true
   },
   "outputs": [],
   "source": [
    "if not carrying-food? [ look-for-food] ;; if not carrying food, look for it\n",
    "if carrying-food? [ move-towards-nest] ;; if carrying food turn back towards the nest\n",
    "                                       ;; turn a small random amount and move foward"
   ]
  },
  {
   "cell_type": "markdown",
   "metadata": {},
   "source": [
    "## Results and Observations from the Ant Model"
   ]
  },
  {
   "cell_type": "markdown",
   "metadata": {},
   "source": [
    "<img src=\"figures/cap0.12.png\" width=600 />"
   ]
  },
  {
   "cell_type": "markdown",
   "metadata": {},
   "source": [
    "## What Good Is an Ant Model?"
   ]
  },
  {
   "cell_type": "markdown",
   "metadata": {},
   "source": [
    "* (1) description\n",
    "* (2) explanation\n",
    "* (3) experimentation\n",
    "* (4) providing source of analogy\n",
    "* (5) communication/education\n",
    "* (6) providing focal objects or centerpices for scientific dialogue\n",
    "* (7) as thought experiments\n",
    "* (8) prediction"
   ]
  },
  {
   "cell_type": "markdown",
   "metadata": {},
   "source": [
    "# What Is Agent-Based Modeling?\n",
    "* Agent-Based Models vs. Other Modeling Forms\n",
    "* Randomness vs. Determinism\n",
    "* When Is ABM Most Beneficial?\n",
    "* Trade-offs of ABM\n",
    "* What is Needed to Understand ABM?"
   ]
  },
  {
   "cell_type": "markdown",
   "metadata": {},
   "source": [
    "## Agent-Based Models vs. Other Modeling Forms"
   ]
  },
  {
   "cell_type": "markdown",
   "metadata": {},
   "source": [
    "## Randomness vs. Determinism"
   ]
  },
  {
   "cell_type": "markdown",
   "metadata": {},
   "source": [
    "## When Is ABM Most Beneficial?"
   ]
  },
  {
   "cell_type": "markdown",
   "metadata": {},
   "source": [
    "## Trade-offs of ABM"
   ]
  },
  {
   "cell_type": "markdown",
   "metadata": {},
   "source": [
    "## What is Needed to Understand ABM?"
   ]
  },
  {
   "cell_type": "markdown",
   "metadata": {},
   "source": [
    "# Conclusion"
   ]
  },
  {
   "cell_type": "markdown",
   "metadata": {},
   "source": [
    "# Exploratoins\n",
    "* Beginner NetLogo Explorations\n",
    "* Ant and Other Model Explorations\n",
    "* Concept Explorations\n",
    "* NetLogo Explorations"
   ]
  },
  {
   "cell_type": "markdown",
   "metadata": {},
   "source": [
    "## Beginner NetLogo Explorations"
   ]
  },
  {
   "cell_type": "markdown",
   "metadata": {},
   "source": [
    "## Ant and Other Model Explorations"
   ]
  },
  {
   "cell_type": "markdown",
   "metadata": {},
   "source": [
    "## Concept Explorations"
   ]
  },
  {
   "cell_type": "markdown",
   "metadata": {},
   "source": [
    "## NetLogo Explorations"
   ]
  },
  {
   "cell_type": "markdown",
   "metadata": {},
   "source": [
    "# 참고자료"
   ]
  },
  {
   "cell_type": "markdown",
   "metadata": {},
   "source": [
    "* [1] An Introduction to Agent-Based Modeling: Modeling Natural, Social, and Engineered Complex Systems with NetLogo (MIT Press) - http://www.amazon.com/Introduction-Agent-Based-Modeling-Natural-Engineered/dp/0262731894/\n",
    "* [2] \"A 30min Introduction to Agent-Based Modelling\" for GORS - http://www.slideshare.net/BruceEdmonds/gors-intro-abm\n",
    "* [3] Agent Based Models - http://www.slideshare.net/DavidSherlock/agent-based-models\n",
    "* [4] Introduction to Agent-based Modelling - http://www.slideshare.net/urbanmovements/introduction-to-agentbased-modelling"
   ]
  }
 ],
 "metadata": {
  "kernelspec": {
   "display_name": "Python 2",
   "language": "python",
   "name": "python2"
  },
  "language_info": {
   "codemirror_mode": {
    "name": "ipython",
    "version": 2
   },
   "file_extension": ".py",
   "mimetype": "text/x-python",
   "name": "python",
   "nbconvert_exporter": "python",
   "pygments_lexer": "ipython2",
   "version": "2.7.10"
  }
 },
 "nbformat": 4,
 "nbformat_minor": 0
}
