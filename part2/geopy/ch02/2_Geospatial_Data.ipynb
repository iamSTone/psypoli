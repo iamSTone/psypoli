{
 "cells": [
  {
   "cell_type": "markdown",
   "metadata": {},
   "source": [
    "# Chapter 2: Geospatial Data"
   ]
  },
  {
   "cell_type": "markdown",
   "metadata": {},
   "source": [
    "# Contents"
   ]
  },
  {
   "cell_type": "markdown",
   "metadata": {},
   "source": [
    "* An overview of common data formats\n",
    "* Data structures\n",
    "    - Common traits \n",
    "        - Geolocation \n",
    "        - Subject information\n",
    "* Spatial indexing\n",
    "    - Indexing algorithms\n",
    "        - Quadtree index\n",
    "        - R-tree index\n",
    "    - Grids\n",
    "* Overviews \n",
    "* Metadata\n",
    "* File structure\n",
    "* Vector data\n",
    "    - Shapefiles\n",
    "    - CAD files\n",
    "    - Tag-based and markup-based formats\n",
    "    - GeoJSON\n",
    "* Raster data\n",
    "    - TIFF files\n",
    "    - JPEG, GIF, BMP, and PNG\n",
    "    - Compressed formats\n",
    "    - ASCII Grids\n",
    "    - World files\n",
    "* Point cloud data\n",
    "* Web services \n",
    "* Summary"
   ]
  },
  {
   "cell_type": "markdown",
   "metadata": {},
   "source": [
    "# An overview of common data formats"
   ]
  },
  {
   "cell_type": "markdown",
   "metadata": {},
   "source": [
    "* Spreadsheets and comma-separated files (CSV files) or tab-separated files (TSV files)\n",
    "* Geotagged photos\n",
    "* Lightweight binary points, lines, and polygons\n",
    "* Multi-gigabyte satellite or aerial images\n",
    "* Elevation data such as grids, point clouds, or integer-based images\n",
    "* XML files\n",
    "* JSON files\n",
    "* Databases (both servers and file databases)\n",
    "* Web services"
   ]
  },
  {
   "cell_type": "markdown",
   "metadata": {},
   "source": [
    "* TerraServer, which they relaunched around this time. In 2004, the \n",
    "* Open Geospatial Consortium (OGC) updated the version of its \n",
    "* Web Map Service (WMS) to"
   ]
  },
  {
   "cell_type": "markdown",
   "metadata": {},
   "source": [
    "* asynchronous JavaScript and XML (AJAX)\n",
    "* OpenLayers\n",
    "* OpenStreetMap"
   ]
  },
  {
   "cell_type": "markdown",
   "metadata": {},
   "source": [
    "* Global Positioning System (GPS)"
   ]
  },
  {
   "cell_type": "markdown",
   "metadata": {},
   "source": [
    "* European Petroleum Survey Group (EPSG) "
   ]
  },
  {
   "cell_type": "markdown",
   "metadata": {},
   "source": [
    "The following URL provides an image taken from Wikipedia:\n",
    "https://en.wikipedia.org/wiki/File:Tissot_mercator.png\n"
   ]
  },
  {
   "cell_type": "markdown",
   "metadata": {},
   "source": [
    "<img src=\"figures/cap2.1.png\" width=600 />"
   ]
  },
  {
   "cell_type": "markdown",
   "metadata": {},
   "source": [
    "* vector data and \n",
    "* raster data"
   ]
  },
  {
   "cell_type": "markdown",
   "metadata": {},
   "source": [
    "If you want to see a projection that shows the relative size of continents more accurately, refer to the Goode homolosine projection:\n",
    "https://en.wikipedia.org/wiki/Goode_homolosine_projection"
   ]
  },
  {
   "cell_type": "markdown",
   "metadata": {},
   "source": [
    "# Data structures\n",
    "* Common traits "
   ]
  },
  {
   "cell_type": "markdown",
   "metadata": {},
   "source": [
    "## Common traits \n",
    "* Geolocation \n",
    "* Subject information"
   ]
  },
  {
   "cell_type": "markdown",
   "metadata": {},
   "source": [
    "### Geolocation "
   ]
  },
  {
   "cell_type": "markdown",
   "metadata": {},
   "source": [
    "### Subject information"
   ]
  },
  {
   "cell_type": "markdown",
   "metadata": {},
   "source": [
    "# Spatial indexing\n",
    "* Indexing algorithms\n",
    "* Grids"
   ]
  },
  {
   "cell_type": "markdown",
   "metadata": {},
   "source": [
    "## Indexing algorithms\n",
    "* Quadtree index\n",
    "* R-tree index"
   ]
  },
  {
   "cell_type": "markdown",
   "metadata": {},
   "source": [
    "### Quadtree index"
   ]
  },
  {
   "cell_type": "markdown",
   "metadata": {},
   "source": [
    "<img src=\"figures/cap2.2.png\" width=600 />"
   ]
  },
  {
   "cell_type": "markdown",
   "metadata": {},
   "source": [
    "### R-tree index"
   ]
  },
  {
   "cell_type": "markdown",
   "metadata": {},
   "source": [
    "<img src=\"figures/cap2.3.png\" width=600 />"
   ]
  },
  {
   "cell_type": "markdown",
   "metadata": {},
   "source": [
    "## Grids"
   ]
  },
  {
   "cell_type": "markdown",
   "metadata": {},
   "source": [
    "# Overviews "
   ]
  },
  {
   "cell_type": "markdown",
   "metadata": {},
   "source": [
    "<img src=\"figures/cap2.4.png\" width=600 />"
   ]
  },
  {
   "cell_type": "markdown",
   "metadata": {},
   "source": [
    "# Metadata"
   ]
  },
  {
   "cell_type": "markdown",
   "metadata": {},
   "source": [
    "* Federal Geographic Data Committee (FGDC) \n",
    "* Content Standard for Digital Geospatial Metadata (CSDGM), \n",
    "* Infrastructure for Spatial Information in the European Community (INSPIRE)."
   ]
  },
  {
   "cell_type": "markdown",
   "metadata": {},
   "source": [
    "# File structure"
   ]
  },
  {
   "cell_type": "markdown",
   "metadata": {},
   "source": [
    "When you unzip this, you will see three files. For this example, we'll be using hancock.shp. The Esri shapefile format has a fixed location and data type in the file header from byte 36 to byte 37 for the minimum x, minimum y, maximum x, and maximum y bounding box values. In this example, we will execute the following steps:\n",
    "1. Import the struct module.\n",
    "2. Open the hancock.zip shapefile in the binary read mode.\n",
    "3. Navigate to byte 36.\n",
    "4. Read each 8-byte double specified as d, and unpack it using the struct module in little-endian order as designated by the < sign."
   ]
  },
  {
   "cell_type": "markdown",
   "metadata": {},
   "source": [
    "The best way to execute this script is in the interactive Python interpreter. We will read the minimum longitude, minimum latitude, maximum longitude, and maximum latitude:"
   ]
  },
  {
   "cell_type": "code",
   "execution_count": null,
   "metadata": {
    "collapsed": true
   },
   "outputs": [],
   "source": [
    "import struct"
   ]
  },
  {
   "cell_type": "code",
   "execution_count": null,
   "metadata": {
    "collapsed": true
   },
   "outputs": [],
   "source": [
    "f = open(\"hancock.shp\",\"rb\")\n",
    "f.seek(36)"
   ]
  },
  {
   "cell_type": "code",
   "execution_count": null,
   "metadata": {
    "collapsed": true
   },
   "outputs": [],
   "source": [
    "struct.unpack(\"<d\", f.read(8))"
   ]
  },
  {
   "cell_type": "code",
   "execution_count": null,
   "metadata": {
    "collapsed": true
   },
   "outputs": [],
   "source": [
    "struct.unpack(\"<d\", f.read(8))"
   ]
  },
  {
   "cell_type": "code",
   "execution_count": null,
   "metadata": {
    "collapsed": true
   },
   "outputs": [],
   "source": [
    "struct.unpack(\"<d\", f.read(8))"
   ]
  },
  {
   "cell_type": "code",
   "execution_count": null,
   "metadata": {
    "collapsed": true
   },
   "outputs": [],
   "source": [
    "struct.unpack(\"<d\", f.read(8))"
   ]
  },
  {
   "cell_type": "markdown",
   "metadata": {},
   "source": [
    "You'll notice that when the struct module unpacks a value, it returns a Python tuple with one value. You can shorten the preceding unpacking code to one line by specifying all four doubles at once and increasing the byte length to 32 bytes as shown in the following code:"
   ]
  },
  {
   "cell_type": "code",
   "execution_count": null,
   "metadata": {
    "collapsed": true
   },
   "outputs": [],
   "source": [
    "f.seek(36)"
   ]
  },
  {
   "cell_type": "code",
   "execution_count": null,
   "metadata": {
    "collapsed": true
   },
   "outputs": [],
   "source": [
    "struct.unpack(\"<dddd\", f.read(32))"
   ]
  },
  {
   "cell_type": "markdown",
   "metadata": {},
   "source": [
    "# Vector data\n",
    "* Shapefiles\n",
    "* CAD files\n",
    "* Tag-based and markup-based formats\n",
    "* GeoJSON"
   ]
  },
  {
   "cell_type": "markdown",
   "metadata": {},
   "source": [
    "## Shapefiles"
   ]
  },
  {
   "cell_type": "markdown",
   "metadata": {},
   "source": [
    "* ARC/INFO\n",
    "* OGR library\n",
    "* Shapely and Fiona"
   ]
  },
  {
   "cell_type": "markdown",
   "metadata": {},
   "source": [
    "The .shp, .shx, and .dbf files are required for a valid shapefile."
   ]
  },
  {
   "cell_type": "markdown",
   "metadata": {},
   "source": [
    "<img src=\"figures/cap2.5.png\" width=600 />"
   ]
  },
  {
   "cell_type": "markdown",
   "metadata": {},
   "source": [
    "<img src=\"figures/cap2.6.png\" width=600 />"
   ]
  },
  {
   "cell_type": "markdown",
   "metadata": {},
   "source": [
    "<img src=\"figures/cap2.7.png\" width=600 />"
   ]
  },
  {
   "cell_type": "markdown",
   "metadata": {},
   "source": [
    "## CAD files"
   ]
  },
  {
   "cell_type": "markdown",
   "metadata": {},
   "source": [
    "* Curves\n",
    "* Surfaces (for objects that are different from geospatial elevation surfaces)\n",
    "* 3D solids\n",
    "* Text (rendered as an object)\n",
    "* Text styling\n",
    "* Viewport configuration"
   ]
  },
  {
   "cell_type": "markdown",
   "metadata": {},
   "source": [
    "## Tag-based and markup-based formats"
   ]
  },
  {
   "cell_type": "markdown",
   "metadata": {},
   "source": [
    "* well-known text (WKT)\n",
    "* Keyhole Markup Language (KML)\n",
    "* Open Street Map (OSM)\n",
    "* Geographic Markup Language (GML) \n",
    "* Web Feature Service (WFS)"
   ]
  },
  {
   "cell_type": "code",
   "execution_count": null,
   "metadata": {
    "collapsed": true
   },
   "outputs": [],
   "source": [
    "<?xml version=\"1.0\" encoding=\"utf-8\"?>\n",
    "<kml xmlns=\"http://www.opengis.net/kml/2.2\">\n",
    "    <Placemark>\n",
    "        <name>Mockingbird Cafe</name>\n",
    "        <description>Coffee Shop</description>\n",
    "        <Point>\n",
    "            <coordinates>-89.329160,30.310964</coordinates>\n",
    "        </Point>\n",
    "    </Placemark>\n",
    "</kml>"
   ]
  },
  {
   "cell_type": "markdown",
   "metadata": {},
   "source": [
    "* It is a human readable format\n",
    "* It can be edited in a text editor\n",
    "* It is well-supported by programming languages (especially Python!)\n",
    "* It is, by definition, easily extensible"
   ]
  },
  {
   "cell_type": "code",
   "execution_count": null,
   "metadata": {
    "collapsed": true
   },
   "outputs": [],
   "source": [
    "GEOGCS[\"WGS 84\",\n",
    "       DATUM[\"WGS_1984\",\n",
    "           SPHEROID[\"WGS 84\",6378137,298.257223563,\n",
    "               AUTHORITY[\"EPSG\",\"7030\"]],\n",
    "           AUTHORITY[\"EPSG\",\"6326\"]],\n",
    "       PRIMEM[\"Greenwich\",0,\n",
    "           AUTHORITY[\"EPSG\",\"8901\"]],\n",
    "       UNIT[\"degree\",0.01745329251994328,\n",
    "           AUTHORITY[\"EPSG\",\"9122\"]],\n",
    "       AUTHORITY[\"EPSG\",\"4326\"]]"
   ]
  },
  {
   "cell_type": "markdown",
   "metadata": {},
   "source": [
    "## GeoJSON"
   ]
  },
  {
   "cell_type": "code",
   "execution_count": null,
   "metadata": {
    "collapsed": true
   },
   "outputs": [],
   "source": [
    "{ \"type\": \"GeometryCollection\",\n",
    "     \"geometries\": [\n",
    "       { \"type\": \"Point\",\n",
    "         \"coordinates\": [-89.33, 30.0]\n",
    "       },\n",
    "       { \"type\": \"LineString\",\n",
    "         \"coordinates\": [ [-89.33, 30.30], [-89.36, 30.28] ]\n",
    "       }\n",
    "  {\"type\": \"Polygon\",\n",
    "    \"coordinates\": [[\n",
    "      [-104.05, 48.99],\n",
    "      [-97.22,  48.98]\n",
    "    }\n",
    "  ] \n",
    "}"
   ]
  },
  {
   "cell_type": "code",
   "execution_count": null,
   "metadata": {
    "collapsed": true
   },
   "outputs": [],
   "source": [
    "gc = { \"type\": \"GeometryCollection\",\n",
    "     \"geometries\": [\n",
    "       { \"type\": \"Point\",\n",
    "         \"coordinates\": [-89.33, 30.0]\n",
    "       },\n",
    "       { \"type\": \"LineString\",\n",
    "         \"coordinates\": [ [-89.33, 30.30], [-89.36, 30.28] ]\n",
    "       }\n",
    "] }\n",
    "   gc\n",
    "   {'type': 'GeometryCollection', 'geometries': [{'type': 'Point',\n",
    "     'coordinates': [\n",
    "     -89.33, 30.0]}, {'type': 'LineString', 'coordinates': [[-89.33,\n",
    "       30.3], [-89.36,30.28]]}]}\n"
   ]
  },
  {
   "cell_type": "markdown",
   "metadata": {},
   "source": [
    "# Raster data\n",
    "* TIFF files\n",
    "* JPEG, GIF, BMP, and PNG\n",
    "* Compressed formats\n",
    "* ASCII Grids\n",
    "* World files"
   ]
  },
  {
   "cell_type": "markdown",
   "metadata": {},
   "source": [
    " ASCII text files or Binary Large Objects (BLOBs) in databases."
   ]
  },
  {
   "cell_type": "markdown",
   "metadata": {},
   "source": [
    "* Common Data Form (NetCDF), GRIB, and HDF5\n",
    "* Geospatial Data Abstraction Library (GDAL)"
   ]
  },
  {
   "cell_type": "markdown",
   "metadata": {},
   "source": [
    "## TIFF files"
   ]
  },
  {
   "cell_type": "markdown",
   "metadata": {},
   "source": [
    "Tagged Image File Format (TIFF)"
   ]
  },
  {
   "cell_type": "markdown",
   "metadata": {},
   "source": [
    "## JPEG, GIF, BMP, and PNG"
   ]
  },
  {
   "cell_type": "markdown",
   "metadata": {},
   "source": [
    "## Compressed formats"
   ]
  },
  {
   "cell_type": "markdown",
   "metadata": {},
   "source": [
    "* Multi-resolution Seamless Image Database (MrSID) (.sid) and \n",
    "* Enhanced Compression Wavelet (ECW) (.ecw) "
   ]
  },
  {
   "cell_type": "markdown",
   "metadata": {},
   "source": [
    "## ASCII Grids   "
   ]
  },
  {
   "cell_type": "code",
   "execution_count": null,
   "metadata": {
    "collapsed": true
   },
   "outputs": [],
   "source": [
    "<NCOLS xxx>\n",
    "<NROWS xxx>\n",
    "<XLLCENTER xxx | XLLCORNER xxx>\n",
    "<YLLCENTER xxx | YLLCORNER xxx>\n",
    "<CELLSIZE xxx>\n",
    "{NODATA_VALUE xxx}\n",
    "row 1 row 2 .\n",
    ".\n",
    ".\n",
    "row n"
   ]
  },
  {
   "cell_type": "markdown",
   "metadata": {},
   "source": [
    "* The number of columns\n",
    "* The number of rows\n",
    "* The x-axis cell center coordinate | x-axis lower-left corner coordinate\n",
    "* The y-axis cell center coordinate | y-axis lower-left corner coordinate\n",
    "* The cell size in mapping units\n",
    "* The no-data value (typically, 9999)"
   ]
  },
  {
   "cell_type": "markdown",
   "metadata": {},
   "source": [
    "## World files"
   ]
  },
  {
   "cell_type": "markdown",
   "metadata": {},
   "source": [
    "<img src=\"figures/cap2.8.png\" width=600 />"
   ]
  },
  {
   "cell_type": "markdown",
   "metadata": {},
   "source": [
    "The structure of a world file is very simple. It is a six-line text file as follows:\n",
    "* Line 1: The cell size along the x axis in ground units\n",
    "* Line 2: The rotation on the y axis\n",
    "* Line 3: The rotation on the x axis\n",
    "* Line 4: The cell size along the y axis in ground units\n",
    "* Line 5: The center x-coordinate of the upper left cell\n",
    "* Line 6: The center y-coordinate of the upper left cell"
   ]
  },
  {
   "cell_type": "code",
   "execution_count": null,
   "metadata": {
    "collapsed": true
   },
   "outputs": [],
   "source": [
    "The following is an example of world file values:\n",
    "   15.0\n",
    "   0.0\n",
    "   0.0\n",
    "   -15.0\n",
    "   -89,38\n",
    "   45.0"
   ]
  },
  {
   "cell_type": "markdown",
   "metadata": {},
   "source": [
    "U.S. Geological Survey (USGS)"
   ]
  },
  {
   "cell_type": "markdown",
   "metadata": {},
   "source": [
    "<img src=\"figures/cap2.9.png\" width=600 />"
   ]
  },
  {
   "cell_type": "markdown",
   "metadata": {},
   "source": [
    "# Point cloud data"
   ]
  },
  {
   "cell_type": "markdown",
   "metadata": {},
   "source": [
    "### LIDAR \n",
    "LIDAR uses powerful laser range-finding systems to model the world with very high precision. The term LIDAR or LiDAR is a combination of the words light and radar. Some people claim it also stands for Light Detection and Ranging. LIDAR sensors can be mounted on aerial platforms including satellites, airplanes, or helicopters. They can also be mounted on vehicles for ground-based collection."
   ]
  },
  {
   "cell_type": "markdown",
   "metadata": {},
   "source": [
    "<img src=\"figures/cap2.10.png\" width=600 />"
   ]
  },
  {
   "cell_type": "markdown",
   "metadata": {},
   "source": [
    "# Web services "
   ]
  },
  {
   "cell_type": "markdown",
   "metadata": {},
   "source": [
    " Representational State Transfer (REST)"
   ]
  },
  {
   "cell_type": "markdown",
   "metadata": {},
   "source": [
    "# Summary"
   ]
  },
  {
   "cell_type": "markdown",
   "metadata": {},
   "source": [
    "# 참고자료"
   ]
  },
  {
   "cell_type": "code",
   "execution_count": null,
   "metadata": {
    "collapsed": true
   },
   "outputs": [],
   "source": []
  }
 ],
 "metadata": {
  "kernelspec": {
   "display_name": "Python 2",
   "language": "python",
   "name": "python2"
  },
  "language_info": {
   "codemirror_mode": {
    "name": "ipython",
    "version": 2
   },
   "file_extension": ".py",
   "mimetype": "text/x-python",
   "name": "python",
   "nbconvert_exporter": "python",
   "pygments_lexer": "ipython2",
   "version": "2.7.10"
  }
 },
 "nbformat": 4,
 "nbformat_minor": 0
}
