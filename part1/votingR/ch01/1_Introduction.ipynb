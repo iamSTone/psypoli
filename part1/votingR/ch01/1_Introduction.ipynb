{
 "cells": [
  {
   "cell_type": "markdown",
   "metadata": {},
   "source": [
    "# 1. Introduction"
   ]
  },
  {
   "cell_type": "markdown",
   "metadata": {},
   "source": [
    "* 싸이지먼트 / 싸이폴리 : 파트 1 - 투표행동R [1]\n",
    "* 김무성"
   ]
  },
  {
   "cell_type": "markdown",
   "metadata": {},
   "source": [
    "# Contents"
   ]
  },
  {
   "cell_type": "markdown",
   "metadata": {},
   "source": [
    "* 1.1 The Spatial Theory of Voting \n",
    "    - 1.1.1 Theoretical Development and Applications of the Spatial VotingModel\n",
    "    - 1.1.2 The Development of Empirical Estimation Methods for Spatial Models of Voting \n",
    "    - 1.1.3 The Basic Space Theory\n",
    "* 1.2 Summary of Data Types Analyzed by Spatial Voting Models\n",
    "* 1.3 Conclusion"
   ]
  },
  {
   "cell_type": "markdown",
   "metadata": {},
   "source": [
    "# keyword"
   ]
  },
  {
   "cell_type": "markdown",
   "metadata": {},
   "source": [
    "* political science\n",
    "* spatial (geometric) models\n",
    "* political choice data\n",
    "* R\n",
    "* distance\n",
    "* relational data\n",
    "* spatial map\n",
    "* dimensionality\n",
    "* measure latent (unob- servable) quantities from observed indicators.\n",
    "* multidimensional scaling (MDS)"
   ]
  },
  {
   "cell_type": "markdown",
   "metadata": {},
   "source": [
    "# 1.1 The Spatial Theory of Voting"
   ]
  },
  {
   "cell_type": "markdown",
   "metadata": {},
   "source": [
    "* 1.1.1 Theoretical Development and Applications of the Spatial VotingModel\n",
    "* 1.1.2 The Development of Empirical Estimation Methods for Spatial Models of Voting\n",
    "* 1.1.3 The Basic Space Theory"
   ]
  },
  {
   "cell_type": "markdown",
   "metadata": {},
   "source": [
    "<img src=\"figures/cap1.1.png\" width=600 />"
   ]
  },
  {
   "cell_type": "markdown",
   "metadata": {},
   "source": [
    "## 1.1.1 Theoretical Development and Applications of the Spatial VotingModel"
   ]
  },
  {
   "cell_type": "markdown",
   "metadata": {},
   "source": [
    "* social choice theory\n",
    "* aggregation of individual choices\n",
    "* aggregated preference order\n",
    "* Social Choice and Individual Values, Arrow (1951)\n",
    "* preferences\n",
    "* single-peaked\n",
    "* ordered\n",
    "* single dimension\n",
    "* multidimensional space\n",
    "* directional voting model\n",
    "* proximitiy voting model"
   ]
  },
  {
   "cell_type": "markdown",
   "metadata": {},
   "source": [
    "## 1.1.2 The Development of Empirical Estimation Methods for Spatial Models of Voting"
   ]
  },
  {
   "cell_type": "markdown",
   "metadata": {},
   "source": [
    "* psychology\n",
    "* MDS\n",
    "* DW-NOM-INATE\n",
    "* NOMINATE"
   ]
  },
  {
   "cell_type": "markdown",
   "metadata": {},
   "source": [
    "## 1.1.3 The Basic Space Theory"
   ]
  },
  {
   "cell_type": "markdown",
   "metadata": {},
   "source": [
    "* policy issues\n",
    "* small number of latent dimensions\n",
    "* low-dimensional regularity\n",
    "* theoretical concepts of ideology\n",
    "* constraint\n",
    "    - Constraint simply refers to the bundling or linkage of many different issue positions as part of a political ideology or “belief system.”\n",
    "* Ideological constraint has a natural geometric interpretation\n",
    "* basic space\n",
    "* <font color=\"red\">The central idea of the basic space theory is straightforward: a few fundamental dimensions underlie political preferences, and the goal of scaling procedures is to recover these dimensions and individuals’ ideal points in the abstract space.</font>\n",
    "* map\n",
    "    - What are the sources of ideological constraint—the forces that collapse or “map” the complex issue space onto the low-dimensional basic space? \n",
    "    - As Jost, Federico and Napier (2009) discuss in a recent review essay, psychologists and political scientists often differ on the process by which policy preferences are bundled together.\n",
    "        - Political scientists tend to emphasize the role of political elites—parties, interest groups, and elected officials—in packaging a comprehensive set of issue positions into an ideological whole.\n",
    "            - The fact that what constitutes the conservative or liberal position on a given issue can change (sometimes dramatically, as in the case of abortion in the 1970s [Stimson, 2004, pp. 57–60]) illustrates the importance of elite political actors in the mapping process.\n",
    "        - Conversely, psychologists tend to view ideological structure as stemming from a variety of personality traits, needs, motives, and atti- tudes (Jost, Federico and Napier, 2009).\n",
    "            - For example, openness to change has a leftward influence, while preferences for order and structure exert a rightward effect."
   ]
  },
  {
   "cell_type": "markdown",
   "metadata": {},
   "source": [
    "<img src=\"figures/cap1.2.png\" width=600 />"
   ]
  },
  {
   "cell_type": "markdown",
   "metadata": {},
   "source": [
    "# 1.2 Summary of Data Types Analyzed by Spatial Voting Models"
   ]
  },
  {
   "cell_type": "markdown",
   "metadata": {},
   "source": [
    "# 1.3 Conclusion"
   ]
  },
  {
   "cell_type": "markdown",
   "metadata": {},
   "source": [
    "<img src=\"figures/cap1.3-1.png\" width=600 />\n",
    "<img src=\"figures/cap1.3-2.png\" width=600 />"
   ]
  },
  {
   "cell_type": "markdown",
   "metadata": {},
   "source": [
    "# 참고자료"
   ]
  },
  {
   "cell_type": "markdown",
   "metadata": {
    "collapsed": true
   },
   "source": [
    "* [1]  Analyzing Spatial Models of Choice and Judgment with R - http://www.amazon.com/Analyzing-Judgment-Statistics-Behavioral-Sciences/dp/1466517158\n",
    "* [2] 1장 관련 웹 페이지 - http://voteview.com/asmcjr_chapter_1.htm\n",
    "* [3] 저자 사이트 - http://voteview.com/asmcjr.htm\n",
    "* [4] spatial voting models - http://jackman.stanford.edu/classes/eitm/dayOne.pdf\n",
    "* [5] The Spatial Model of Voting: Theory and Empirics - https://www.law.berkeley.edu/files/Quinn-Slides.pdf"
   ]
  }
 ],
 "metadata": {
  "kernelspec": {
   "display_name": "R",
   "language": "",
   "name": "ir"
  },
  "language_info": {
   "codemirror_mode": "r",
   "file_extension": ".r",
   "mimetype": "text/x-r-source",
   "name": "R",
   "pygments_lexer": "r",
   "version": "3.2.1"
  }
 },
 "nbformat": 4,
 "nbformat_minor": 0
}
