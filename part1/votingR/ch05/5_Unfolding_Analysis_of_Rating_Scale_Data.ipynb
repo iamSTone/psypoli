{
 "cells": [
  {
   "cell_type": "markdown",
   "metadata": {},
   "source": [
    "# 5 Unfolding Analysis of Rating Scale Data"
   ]
  },
  {
   "cell_type": "markdown",
   "metadata": {},
   "source": [
    "# Contents\n",
    "* 5.1 Solving the Thermometers Problem\n",
    "* 5.2 Metric Unfolding Using the MLSMU6 Procedure\n",
    "    - 5.2.1 Example 1: 1981 Interest Group Ratings of US SenatorsData\n",
    "* 5.3 Metric Unfolding Using Majorization (SMACOF)\n",
    "    - 5.3.1 Example 1: 2009 European Election Study (Danish Module)\n",
    "    - 5.3.2 Comparing the MLSMU6 and SMACOF Metric Unfolding Procedures\n",
    "* 5.4 Bayesian Multidimensional Unfolding\n",
    "    - 5.4.1 Example 1: 1968 American National Election Study Feeling Thermometers Data\n",
    "* 5.5 Conclusion"
   ]
  },
  {
   "cell_type": "markdown",
   "metadata": {},
   "source": [
    "In this chapter, we discuss how unfolding methods can be used to analyze rating scale preferential choice data."
   ]
  },
  {
   "cell_type": "markdown",
   "metadata": {},
   "source": [
    "<font color=\"red\">These types of data are arranged as rectangular matrices with the individuals on the rows and the stimuli on the columns.</font>\n",
    "* Common examples of this type of data in political science include feeling thermometers and propensity to vote measures."
   ]
  },
  {
   "cell_type": "markdown",
   "metadata": {},
   "source": [
    "#### feeling thermometers"
   ]
  },
  {
   "cell_type": "markdown",
   "metadata": {},
   "source": [
    "Feeling thermometer questions (first used in the 1964 American National Election Study [ANES]) ask respondents to rate their affect toward various political stimuli (parties, candidates, and sociopolitical groups) on a 0- to 100-point scale."
   ]
  },
  {
   "cell_type": "markdown",
   "metadata": {},
   "source": [
    "#### Propensity to vote questions"
   ]
  },
  {
   "cell_type": "markdown",
   "metadata": {},
   "source": [
    "Propensity to vote questions are most commonly included in European political surveys (e.g., the European Social Survey [ESS]), and ask respondents to rate how likely they are to vote for a given party or candidate on a similar (although usually 10- or 11-point) scale."
   ]
  },
  {
   "cell_type": "markdown",
   "metadata": {},
   "source": [
    "#### Data such as \n",
    "* feeling thermometers and \n",
    "* propensity to vote ratings \n",
    "* are the best available measures of \n",
    "    - voters’ expected utility \n",
    "        - from political alternatives. \n",
    "    - These measures capture \n",
    "        - the bundle of considerations that \n",
    "            - voters use to make political choices: \n",
    "                - policy positions, \n",
    "                - party labels, \n",
    "                - valence or \n",
    "                - personal affect, \n",
    "                - etc."
   ]
  },
  {
   "cell_type": "markdown",
   "metadata": {},
   "source": [
    "#### Coombs’ unfolding model "
   ]
  },
  {
   "cell_type": "markdown",
   "metadata": {},
   "source": [
    "We use Coombs’ (1950; 1952; 1958; 1964) unfolding model to analyze this type of preferential choice data."
   ]
  },
  {
   "cell_type": "markdown",
   "metadata": {},
   "source": [
    "#### preferred point (ideal point)"
   ]
  },
  {
   "cell_type": "markdown",
   "metadata": {},
   "source": [
    "* Clyde Coombs developed unfolding analysis to deal with data where individuals ranked stimuli in order of preference. \n",
    "* Coombs came up with the idea of a most preferred point (ideal point) and a single-peaked preference function to account for the observed rank orderings."
   ]
  },
  {
   "cell_type": "markdown",
   "metadata": {},
   "source": [
    "<font color=\"blue\">The aim of an unfolding analysis is to arrange the individuals’ ideal points and points representing the stimuli on a common evaluative scale (the J scale) so that the distances between the ideal points and the stimuli points repro- duce the observed rank orderings.</font>"
   ]
  },
  {
   "cell_type": "markdown",
   "metadata": {},
   "source": [
    "#### unfold"
   ]
  },
  {
   "cell_type": "markdown",
   "metadata": {},
   "source": [
    "* An individual’s rank ordering \n",
    "    - is computed \n",
    "        - from her ideal point \n",
    "        - so that the reported ordering is akin to picking up the dimension \n",
    "        - (as if it were a piece of string) at the ideal point \n",
    "        - so that both sides of the dimension fold together to form a line with the individual’s ideal point at the end. \n",
    "* Coombs called this an unfolding analysis \n",
    "    - because the researcher must \n",
    "        - take the rank orderings and \n",
    "        - “unfold” them. "
   ]
  },
  {
   "cell_type": "markdown",
   "metadata": {},
   "source": [
    "Because the unfolding model is an ideal point model, it is is entirely consistent with the spatial (geometric) model of choice and exceptionally well-suited to the analysis of political choice data."
   ]
  },
  {
   "cell_type": "markdown",
   "metadata": {},
   "source": [
    "#### MLSMU6 and SMACOF least squares metric"
   ]
  },
  {
   "cell_type": "markdown",
   "metadata": {},
   "source": [
    "We begin with a general discussion of the thermometers problem and proceed to an exposition of the MLSMU6 and SMACOF least squares metric unfolding methods."
   ]
  },
  {
   "cell_type": "markdown",
   "metadata": {},
   "source": [
    "# 5.1 Solving the Thermometers Problem"
   ]
  },
  {
   "cell_type": "markdown",
   "metadata": {},
   "source": [
    "Let T be the n by q matrix of thermometer scores (customarily ranging from 0 to 100) where i = 1,...,n is the number of respondents and j = 1,...,q is the number of political/social stimuli with ratings. "
   ]
  },
  {
   "cell_type": "markdown",
   "metadata": {},
   "source": [
    "T can be regarded as a matrix of inverse distances between the respondents and the stimuli.\n"
   ]
  },
  {
   "cell_type": "markdown",
   "metadata": {},
   "source": [
    "Specifically, apply the linear transformation:"
   ]
  },
  {
   "cell_type": "markdown",
   "metadata": {},
   "source": [
    "<img src=\"figures/cap5.1.png\" width=600 />"
   ]
  },
  {
   "cell_type": "markdown",
   "metadata": {},
   "source": [
    "Recall that our n by s matrix of individual (respondent) coordinates is"
   ]
  },
  {
   "cell_type": "markdown",
   "metadata": {},
   "source": [
    "<img src=\"figures/cap5.2.png\" width=600 />"
   ]
  },
  {
   "cell_type": "markdown",
   "metadata": {},
   "source": [
    "and our q by s matrix of stimuli coordinates is"
   ]
  },
  {
   "cell_type": "markdown",
   "metadata": {},
   "source": [
    "<img src=\"figures/cap5.3.png\" width=600 />"
   ]
  },
  {
   "cell_type": "markdown",
   "metadata": {},
   "source": [
    "The n by q matrix of squared distances between X and Z (individuals and stimuli) is"
   ]
  },
  {
   "cell_type": "markdown",
   "metadata": {},
   "source": [
    "<img src=\"figures/cap5.4.png\" width=600 />"
   ]
  },
  {
   "cell_type": "markdown",
   "metadata": {},
   "source": [
    "As shown by Equations 4.3–4.7, this can be written in matrix algebra as\n",
    "the product of two partitioned matrices:"
   ]
  },
  {
   "cell_type": "markdown",
   "metadata": {},
   "source": [
    "<img src=\"figures/cap5.5.png\" width=600 />"
   ]
  },
  {
   "cell_type": "markdown",
   "metadata": {},
   "source": [
    "#### double-centered matrix"
   ]
  },
  {
   "cell_type": "markdown",
   "metadata": {},
   "source": [
    "If there was no error, then Equation 5.4 can be solved using the method of Scho ̈nemann (1970). Part of Scho ̈nemann’s solution is to work with the double-centered matrix. Recall:"
   ]
  },
  {
   "cell_type": "markdown",
   "metadata": {},
   "source": [
    "<img src=\"figures/cap5.6.png\" width=600 />"
   ]
  },
  {
   "cell_type": "markdown",
   "metadata": {},
   "source": [
    "Where the double-centered matrix comes into play in the thermometers problem is that we can use singular value decomposition to get starting co- ordinates for either X or Z to use in a gradient-style solution."
   ]
  },
  {
   "cell_type": "markdown",
   "metadata": {},
   "source": [
    "For example,\n",
    "let the singular value decomposition of Y be UλV′ and let the starting coordinates for X be $Uλ^{1/2}$ and the starting coordinates for Z be $Vλ^{1/2}$ . Given these starting coordinates we can compute the dij for our standard squared error loss function:"
   ]
  },
  {
   "cell_type": "markdown",
   "metadata": {},
   "source": [
    "Given these starting coordinates we can compute the $d_{ij}$ for our standard squared error loss function:"
   ]
  },
  {
   "cell_type": "markdown",
   "metadata": {},
   "source": [
    "<img src=\"figures/cap5.7.png\" width=600 />"
   ]
  },
  {
   "cell_type": "markdown",
   "metadata": {},
   "source": [
    "# 5.2 Metric Unfolding Using the MLSMU6 Procedure\n",
    "* 5.2.1 Example 1: 1981 Interest Group Ratings of US SenatorsData"
   ]
  },
  {
   "cell_type": "markdown",
   "metadata": {},
   "source": [
    "<img src=\"figures/cap5.8.png\" width=600 />"
   ]
  },
  {
   "cell_type": "markdown",
   "metadata": {},
   "source": [
    "<img src=\"figures/cap5.9.png\" width=600 />"
   ]
  },
  {
   "cell_type": "markdown",
   "metadata": {},
   "source": [
    "<img src=\"figures/cap5.10.png\" width=600 />"
   ]
  },
  {
   "cell_type": "markdown",
   "metadata": {},
   "source": [
    "<img src=\"figures/cap5.11.png\" width=600 />"
   ]
  },
  {
   "cell_type": "markdown",
   "metadata": {},
   "source": [
    "<img src=\"figures/cap5.12.png\" width=600 />"
   ]
  },
  {
   "cell_type": "markdown",
   "metadata": {},
   "source": [
    "<img src=\"figures/cap5.13.png\" width=600 />"
   ]
  },
  {
   "cell_type": "markdown",
   "metadata": {},
   "source": [
    "<img src=\"figures/cap5.14.png\" width=600 />"
   ]
  },
  {
   "cell_type": "markdown",
   "metadata": {},
   "source": [
    "<img src=\"figures/cap5.15.png\" width=600 />"
   ]
  },
  {
   "cell_type": "markdown",
   "metadata": {},
   "source": [
    "## 5.2.1 Example 1: 1981 Interest Group Ratings of US Senators Data"
   ]
  },
  {
   "cell_type": "markdown",
   "metadata": {},
   "source": [
    "We demonstrate use of the MLSMU6 procedure using interest group ratings of US Senators in 1981. \n",
    "* Interest groups rate members of Congress on a scale based on their votes on a select number of roll calls of concern to the organization. \n",
    "* These scales are customarily either \n",
    "    - ratio level (0–100) or \n",
    "    - based on an ordinal grading system \n",
    "        - (e.g., the National Rifle Association rates candidates and elected officials using letter grades between “A” and “F”). \n",
    "* For our purposes, \n",
    "    - we use ratings collected from 30 interest group that used a 0–100 scale to rate Senators in 1981 (the first year of the 97th Congress)."
   ]
  },
  {
   "cell_type": "markdown",
   "metadata": {},
   "source": [
    "<img src=\"figures/cap5.17.png\" width=600 />"
   ]
  },
  {
   "cell_type": "markdown",
   "metadata": {},
   "source": [
    "# 5.3 Metric Unfolding Using Majorization (SMACOF)\n",
    "* 5.3.1 Example 1: 2009 European Election Study (Danish Module)\n",
    "* 5.3.2 Comparing the MLSMU6 and SMACOF Metric Unfolding Procedures"
   ]
  },
  {
   "cell_type": "markdown",
   "metadata": {},
   "source": [
    "<img src=\"figures/cap5.16.png\" width=600 />"
   ]
  },
  {
   "cell_type": "markdown",
   "metadata": {},
   "source": [
    "<img src=\"figures/cap5.18.png\" width=600 />"
   ]
  },
  {
   "cell_type": "markdown",
   "metadata": {},
   "source": [
    "<img src=\"figures/cap5.19.png\" width=600 />"
   ]
  },
  {
   "cell_type": "markdown",
   "metadata": {},
   "source": [
    "<img src=\"figures/cap5.20.png\" width=600 />"
   ]
  },
  {
   "cell_type": "markdown",
   "metadata": {},
   "source": [
    "<img src=\"figures/cap5.21.png\" width=600 />"
   ]
  },
  {
   "cell_type": "markdown",
   "metadata": {},
   "source": [
    "## 5.3.1 Example 1: 2009 European Election Study (Danish Module)"
   ]
  },
  {
   "cell_type": "markdown",
   "metadata": {},
   "source": [
    "<img src=\"figures/cap5.22.png\" width=600 />"
   ]
  },
  {
   "cell_type": "markdown",
   "metadata": {},
   "source": [
    "<img src=\"figures/cap5.23.png\" width=600 />"
   ]
  },
  {
   "cell_type": "markdown",
   "metadata": {},
   "source": [
    "<img src=\"figures/cap5.24.png\" width=600 />"
   ]
  },
  {
   "cell_type": "markdown",
   "metadata": {},
   "source": [
    "## 5.3.2 Comparing the MLSMU6 and SMACOF Metric Unfolding Procedures"
   ]
  },
  {
   "cell_type": "markdown",
   "metadata": {},
   "source": [
    "# 5.4 Bayesian Multidimensional Unfolding\n",
    "* 5.4.1 Example 1: 1968 American National Election Study Feeling Thermometers Data"
   ]
  },
  {
   "cell_type": "markdown",
   "metadata": {},
   "source": [
    "## 5.4.1 Example 1: 1968 American National Election Study Feeling Thermometers Data"
   ]
  },
  {
   "cell_type": "markdown",
   "metadata": {},
   "source": [
    "# 5.5 Conclusion"
   ]
  },
  {
   "cell_type": "markdown",
   "metadata": {},
   "source": [
    "# 참고자료"
   ]
  }
 ],
 "metadata": {
  "kernelspec": {
   "display_name": "R",
   "language": "",
   "name": "ir"
  },
  "language_info": {
   "codemirror_mode": "r",
   "file_extension": ".r",
   "mimetype": "text/x-r-source",
   "name": "R",
   "pygments_lexer": "r",
   "version": "3.2.1"
  }
 },
 "nbformat": 4,
 "nbformat_minor": 0
}
