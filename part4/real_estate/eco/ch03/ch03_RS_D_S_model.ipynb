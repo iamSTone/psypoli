{
 "cells": [
  {
   "cell_type": "markdown",
   "metadata": {},
   "source": [
    "# 제 2 편 부동산 임대료 결정 모형\n",
    "* <font color=\"red\">제3장 부동산 서비스 시장의 수요-공급 모형</font>\n",
    "* 제4장 단핵도시 모형과 도시 공간구조의 분석\n",
    "* 제5장 헤도닉 가격함수와 그 활용"
   ]
  },
  {
   "cell_type": "markdown",
   "metadata": {},
   "source": [
    "# 제3장 부동산 서비스 시장의 수요-공급 모형"
   ]
  },
  {
   "cell_type": "markdown",
   "metadata": {},
   "source": [
    "* 싸이지먼트/싸이폴리 : 파트 4 - 부동산 경제학 [1]\n",
    "* 김무성"
   ]
  },
  {
   "cell_type": "markdown",
   "metadata": {},
   "source": [
    "#### 참고\n",
    "* 본래 2015년 출간본[1]으로 스터디가 진행되나, 이 발표자료는 2010년 책[2]을 바탕으로 작성되었습니다. 이후 다시 2015년판의 내용을 반영하겠습니다."
   ]
  },
  {
   "cell_type": "markdown",
   "metadata": {},
   "source": [
    "# 차례\n",
    "1. 토지 서비스 시장의 수요-공급 모형\n",
    "    - 1) 토지 서비스의 수요\n",
    "    - 2) 토지 서비스 시장의 균형\n",
    "    - 3) 토지세의 효과\n",
    "    - 4) 모형의 한계\n",
    "2. 두 가지 용도가 경쟁하는 토지시장 모형\n",
    "    - 1) 모형\n",
    "    - 2) 모형의 활용\n",
    "        - (1) 용도 간 차별적인 조세의 효과\n",
    "        - (2) 토지이용규제의 비효율성과 개발이익\n",
    "        - (3) 외부효과와 정부개입\n",
    "        - (4) 자원배분을 효율화하는 토지이용규제\n",
    "3. 인구구조 변화와 장기 주택수요 예측\n",
    "    - 1) 주택의 수요와 공급\n",
    "    - 2) 장기 주택수요의 예측방법 1 : 원단위 접근법\n",
    "    - 3) 장기 주택수요의 예측방법 2 : 맨큐-와일(Mankiw-Weil) 접근법\n",
    "4. 장기 주택 공급곡선과 임대료,분양가 규제\n",
    "    - 1) 장단기 주택공급의 차이\n",
    "    - 2) 임대료 규제의 효과와 부작용\n",
    "    - 3) 주택 분양가 규제의 효과와 부작용"
   ]
  },
  {
   "cell_type": "markdown",
   "metadata": {},
   "source": [
    "# 1. 토지 서비스 시장의 수요-공급 모형\n",
    "* 1) 토지 서비스의 수요\n",
    "* 2) 토지 서비스 시장의 균형\n",
    "* 3) 토지세의 효과\n",
    "* 4) 모형의 한계"
   ]
  },
  {
   "cell_type": "markdown",
   "metadata": {},
   "source": [
    "## 1) 토지 서비스의 수요"
   ]
  },
  {
   "cell_type": "markdown",
   "metadata": {},
   "source": [
    "<img src=\"figures/cap3.1.png\"  />"
   ]
  },
  {
   "cell_type": "markdown",
   "metadata": {},
   "source": [
    "<img src=\"figures/cap3.2.png\" width=600 />"
   ]
  },
  {
   "cell_type": "markdown",
   "metadata": {},
   "source": [
    "<img src=\"figures/cap3.3.png\"  />"
   ]
  },
  {
   "cell_type": "markdown",
   "metadata": {},
   "source": [
    "<img src=\"figures/cap3.6.png\" />"
   ]
  },
  {
   "cell_type": "markdown",
   "metadata": {},
   "source": [
    "<img src=\"figures/cap3.5.png\" width=600 />"
   ]
  },
  {
   "cell_type": "markdown",
   "metadata": {},
   "source": [
    "<img src=\"figures/cap3.4.png\" width=600 />"
   ]
  },
  {
   "cell_type": "markdown",
   "metadata": {},
   "source": [
    "<img src=\"figures/cap3.10.png\" width=600 />"
   ]
  },
  {
   "cell_type": "markdown",
   "metadata": {},
   "source": [
    "## 2) 토지 서비스 시장의 균형"
   ]
  },
  {
   "cell_type": "markdown",
   "metadata": {},
   "source": [
    "<img src=\"figures/cap3.8.png\" width=600 />"
   ]
  },
  {
   "cell_type": "markdown",
   "metadata": {},
   "source": [
    "<img src=\"figures/cap3.9.png\" width=600 />"
   ]
  },
  {
   "cell_type": "markdown",
   "metadata": {},
   "source": [
    "## 3) 토지세의 효과"
   ]
  },
  {
   "cell_type": "markdown",
   "metadata": {},
   "source": [
    "<img src=\"figures/cap3.12.png\" width=600 />"
   ]
  },
  {
   "cell_type": "markdown",
   "metadata": {},
   "source": [
    "<img src=\"figures/cap3.7.png\" width=600 />"
   ]
  },
  {
   "cell_type": "markdown",
   "metadata": {},
   "source": [
    "## 4) 모형의 한계"
   ]
  },
  {
   "cell_type": "markdown",
   "metadata": {},
   "source": [
    "# 2. 두 가지 용도가 경쟁하는 토지시장 모형\n",
    "* 1) 모형\n",
    "* 2) 모형의 활용"
   ]
  },
  {
   "cell_type": "markdown",
   "metadata": {},
   "source": [
    "## 1) 모형"
   ]
  },
  {
   "cell_type": "markdown",
   "metadata": {},
   "source": [
    "<img src=\"figures/cap3.13.png\" width=600 />"
   ]
  },
  {
   "cell_type": "markdown",
   "metadata": {},
   "source": [
    "<img src=\"figures/cap3.11.png\" width=600 />"
   ]
  },
  {
   "cell_type": "markdown",
   "metadata": {},
   "source": [
    "<img src=\"figures/cap3.15.png\" width=600 />"
   ]
  },
  {
   "cell_type": "markdown",
   "metadata": {},
   "source": [
    "## 2) 모형의 활용\n",
    "* (1) 용도 간 차별적인 조세의 효과\n",
    "* (2) 토지이용규제의 비효율성과 개발이익\n",
    "* (3) 외부효과와 정부개입\n",
    "* (4) 자원배분을 효율화하는 토지이용규제"
   ]
  },
  {
   "cell_type": "markdown",
   "metadata": {},
   "source": [
    "### (1) 용도 간 차별적인 조세의 효과"
   ]
  },
  {
   "cell_type": "markdown",
   "metadata": {},
   "source": [
    "<img src=\"figures/cap3.14.png\" width=600 />"
   ]
  },
  {
   "cell_type": "markdown",
   "metadata": {},
   "source": [
    "### (2) 토지이용규제의 비효율성과 개발이익"
   ]
  },
  {
   "cell_type": "markdown",
   "metadata": {},
   "source": [
    "<img src=\"figures/cap3.18.png\" width=600 />"
   ]
  },
  {
   "cell_type": "markdown",
   "metadata": {},
   "source": [
    "### (3) 외부효과와 정부개입"
   ]
  },
  {
   "cell_type": "markdown",
   "metadata": {},
   "source": [
    "<img src=\"figures/cap3.19.png\" width=600 />"
   ]
  },
  {
   "cell_type": "markdown",
   "metadata": {},
   "source": [
    "### (4) 자원배분을 효율화하는 토지이용규제"
   ]
  },
  {
   "cell_type": "markdown",
   "metadata": {},
   "source": [
    "<img src=\"figures/cap3.17.png\" width=600 />"
   ]
  },
  {
   "cell_type": "markdown",
   "metadata": {},
   "source": [
    "# 3. 인구구조 변화와 장기 주택수요 예측\n",
    "* 1) 주택의 수요와 공급\n",
    "* 2) 장기 주택수요의 예측방법 1 : 원단위 접근법\n",
    "* 3) 장기 주택수요의 예측방법 2 : 맨큐-와일(Mankiw-Weil) 접근법"
   ]
  },
  {
   "cell_type": "markdown",
   "metadata": {},
   "source": [
    "## 1) 주택의 수요와 공급"
   ]
  },
  {
   "cell_type": "markdown",
   "metadata": {},
   "source": [
    "<img src=\"figures/cap3.20.png\" width=600 />"
   ]
  },
  {
   "cell_type": "markdown",
   "metadata": {},
   "source": [
    "## 2) 장기 주택수요의 예측방법 1 : 원단위 접근법"
   ]
  },
  {
   "cell_type": "markdown",
   "metadata": {},
   "source": [
    "<img src=\"figures/cap3.16.png\" width=600 />"
   ]
  },
  {
   "cell_type": "markdown",
   "metadata": {},
   "source": [
    "## 3) 장기 주택수요의 예측방법 2 : 맨큐-와일(Mankiw-Weil) 접근법"
   ]
  },
  {
   "cell_type": "markdown",
   "metadata": {},
   "source": [
    "<img src=\"figures/cap3.21.png\" width=600 />"
   ]
  },
  {
   "cell_type": "markdown",
   "metadata": {},
   "source": [
    "<img src=\"figures/cap3.22.png\" />"
   ]
  },
  {
   "cell_type": "markdown",
   "metadata": {},
   "source": [
    "<img src=\"figures/cap3.24.png\" width=600 />"
   ]
  },
  {
   "cell_type": "markdown",
   "metadata": {},
   "source": [
    "<img src=\"figures/cap3.23.png\" width=600 />"
   ]
  },
  {
   "cell_type": "markdown",
   "metadata": {},
   "source": [
    "# 4. 장기 주택 공급곡선과 임대료,분양가 규제\n",
    "* 1) 장단기 주택공급의 차이\n",
    "* 2) 임대료 규제의 효과와 부작용\n",
    "* 3) 주택 분양가 규제의 효과와 부작용"
   ]
  },
  {
   "cell_type": "markdown",
   "metadata": {},
   "source": [
    "## 1) 장단기 주택공급의 차이"
   ]
  },
  {
   "cell_type": "markdown",
   "metadata": {},
   "source": [
    "<img src=\"figures/cap3.25.png\" width=600 />"
   ]
  },
  {
   "cell_type": "markdown",
   "metadata": {},
   "source": [
    "<img src=\"figures/cap3.26.png\" width=600 />"
   ]
  },
  {
   "cell_type": "markdown",
   "metadata": {},
   "source": [
    "## 2) 임대료 규제의 효과와 부작용"
   ]
  },
  {
   "cell_type": "markdown",
   "metadata": {},
   "source": [
    "<img src=\"figures/cap3.27.png\" width=600 />"
   ]
  },
  {
   "cell_type": "markdown",
   "metadata": {},
   "source": [
    "## 3) 주택 분양가 규제의 효과와 부작용"
   ]
  },
  {
   "cell_type": "markdown",
   "metadata": {},
   "source": [
    "<img src=\"figures/cap3.28.png\" width=600 />"
   ]
  },
  {
   "cell_type": "markdown",
   "metadata": {},
   "source": [
    "# 참고자료\n",
    "* [1] 부동산 경제학 (개정판,2015)- http://www.aladin.co.kr/shop/wproduct.aspx?ItemId=54258820\n",
    "* [2] 부동산 경제학 (2011) - http://www.aladin.co.kr/shop/wproduct.aspx?ItemId=7714001"
   ]
  }
 ],
 "metadata": {
  "kernelspec": {
   "display_name": "Python 2",
   "language": "python",
   "name": "python2"
  },
  "language_info": {
   "codemirror_mode": {
    "name": "ipython",
    "version": 2
   },
   "file_extension": ".py",
   "mimetype": "text/x-python",
   "name": "python",
   "nbconvert_exporter": "python",
   "pygments_lexer": "ipython2",
   "version": "2.7.6"
  }
 },
 "nbformat": 4,
 "nbformat_minor": 0
}
