{
 "cells": [
  {
   "cell_type": "markdown",
   "metadata": {
    "collapsed": true,
    "nbpresent": {
     "id": "9cc2d55a-3ce1-45de-a0f6-09084ce461fe"
    }
   },
   "source": [
    "# 싸이폴리 코퍼스 구축"
   ]
  },
  {
   "cell_type": "markdown",
   "metadata": {
    "collapsed": true,
    "nbpresent": {
     "id": "42bbcd27-9cae-42de-9727-254df430af8b"
    }
   },
   "source": [
    "놀러온 발제자 송영숙"
   ]
  },
  {
   "cell_type": "markdown",
   "metadata": {
    "collapsed": true,
    "nbpresent": {
     "id": "b7193838-5892-4ea0-a076-aced526f7a37"
    }
   },
   "source": [
    "NLP (Natural Language Processing, 자연어처리)스터디 2년 남짓 하면서 가장 많이 받는 질문 1위:코퍼스가 뭔가요?"
   ]
  },
  {
   "cell_type": "markdown",
   "metadata": {
    "collapsed": true,
    "nbpresent": {
     "id": "94dea4e0-b57e-4487-ad72-7e2c05155e73"
    }
   },
   "source": [
    "오늘의 목표\n",
    "1) 코퍼스를 실전으로 이해한다.\n",
    "2) annotation의 개념을 익힌다. \n",
    "3) pos-tagger란 무엇인지 익힌다..\n",
    "4) 의미 분석이란 무엇인지 알아본다. \n",
    "5) 이 모든 것이 알고 보면 코퍼스 구축은 그리 어렵지 않고 노가다라는 것을 알게 된다. "
   ]
  },
  {
   "cell_type": "markdown",
   "metadata": {
    "nbpresent": {
     "id": "bc0a7adb-8d37-4cb3-83e0-0d167c84a009"
    }
   },
   "source": [
    "말뭉치(corpus)의 정의\n",
    "   - 일정 규모 이상의 크기를 갖추고 그 시대의 언어 현실을 골고루 반영한 컴퓨터가 읽을 수 있는 형태로 저장된 국어자료의 집합체"
   ]
  },
  {
   "cell_type": "markdown",
   "metadata": {
    "collapsed": true,
    "nbpresent": {
     "id": "4a436b94-0c03-4dcc-9a8c-214d26158666"
    }
   },
   "source": [
    "일단, 파이썬에서 코퍼스를 불러 봅시다. "
   ]
  },
  {
   "cell_type": "code",
   "execution_count": 32,
   "metadata": {
    "collapsed": true,
    "nbpresent": {
     "id": "71316c46-1e8e-4da5-b073-7089a37ca4a3"
    }
   },
   "outputs": [],
   "source": [
    "from nltk.corpus import brown"
   ]
  },
  {
   "cell_type": "code",
   "execution_count": 33,
   "metadata": {
    "collapsed": false,
    "nbpresent": {
     "id": "8ab12435-55eb-485b-b476-bbb7fa1d9170"
    }
   },
   "outputs": [],
   "source": [
    "import nltk"
   ]
  },
  {
   "cell_type": "markdown",
   "metadata": {
    "nbpresent": {
     "id": "9fe546e6-0848-4ba1-95a9-710b4e37f895"
    }
   },
   "source": [
    "import brown 이란 무엇일까요?"
   ]
  },
  {
   "cell_type": "markdown",
   "metadata": {
    "nbpresent": {
     "id": "56945d0a-cabd-4c90-8b97-dca035961d29"
    }
   },
   "source": [
    "<img src=\"brown.png\" width=\"800\"><BR>"
   ]
  },
  {
   "cell_type": "markdown",
   "metadata": {
    "nbpresent": {
     "id": "94322e2e-ecf5-41ad-93fa-d665c77c006d"
    }
   },
   "source": [
    "내용을 까봅시다: The corpus originally (1961) contained 1,014,312 words sampled from 15 text categories"
   ]
  },
  {
   "cell_type": "markdown",
   "metadata": {
    "nbpresent": {
     "id": "e6899fb4-82d5-4130-bd34-687a8c9c6035"
    }
   },
   "source": [
    "A. PRESS: Reportage (44 texts)\n",
    "Political\n",
    "Sports\n",
    "Society\n",
    "Spot News\n",
    "Financial\n",
    "Cultural\n",
    "\n",
    "\n",
    "\n",
    "B. PRESS: Editorial (27 texts)\n",
    "Institutional Daily\n",
    "Personal\n",
    "Letters to the Editor\n",
    "\n",
    "\n",
    "\n",
    "C. PRESS: Reviews (17 texts)\n",
    "theatre\n",
    "books\n",
    "music\n",
    "dance\n",
    "\n",
    "\n",
    "\n",
    "D. RELIGION (17 texts)\n",
    "Books\n",
    "Periodicals\n",
    "Tracts\n",
    "\n",
    "\n",
    "\n",
    "E. SKILL AND HOBBIES (36 texts)\n",
    "Books\n",
    "Periodicals\n",
    "\n",
    "\n",
    "\n",
    "F. POPULAR LORE (48 texts)\n",
    "Books\n",
    "Periodicals\n",
    "\n",
    "\n",
    "\n",
    "G. BELLES-LETTRES - Biography, Memoirs, etc. (75 texts)\n",
    "Books\n",
    "Periodicals\n",
    "\n",
    "\n",
    "\n",
    "H. MISCELLANEOUS: US Government & House Organs (30 texts)\n",
    "Government Documents\n",
    "Foundation Reports\n",
    "Industry Reports\n",
    "College Catalog\n",
    "Industry House organ\n",
    "\n",
    "\n",
    "\n",
    "J. LEARNED (80 texts)\n",
    "Natural Sciences\n",
    "Medicine\n",
    "Mathematics\n",
    "Social and Behavioral Sciences\n",
    "Political Science, Law, Education\n",
    "Humanities\n",
    "Technology and Engineering\n",
    "\n",
    "\n",
    "\n",
    "\n",
    "K. FICTION: General (29 texts)\n",
    "Novels\n",
    "Short Stories\n",
    "\n",
    "\n",
    "\n",
    "L. FICTION: Mystery and Detective Fiction (24 texts)\n",
    "Novels\n",
    "Short Stories\n",
    "\n",
    "\n",
    "\n",
    "M. FICTION: Science (6 texts)\n",
    "Novels\n",
    "Short Stories\n",
    "\n",
    "\n",
    "\n",
    "N. FICTION: Adventure and Western (29 texts)\n",
    "Novels\n",
    "Short Stories\n",
    "\n",
    "\n",
    "\n",
    "P. FICTION: Romance and Love Story (29 texts)\n",
    "Novels\n",
    "Short Stories\n",
    "\n",
    "\n",
    "\n",
    "R. HUMOR (9 texts)\n",
    "Novels\n",
    "Essays, etc.\n"
   ]
  },
  {
   "cell_type": "markdown",
   "metadata": {
    "nbpresent": {
     "id": "49cf32d4-d417-46bf-8580-d1b226d47fb7"
    }
   },
   "source": [
    "# 한국어 말뭉치를 불러봅시다. "
   ]
  },
  {
   "cell_type": "code",
   "execution_count": null,
   "metadata": {
    "collapsed": false,
    "nbpresent": {
     "id": "c9020845-89d9-46e3-a40b-974278d7bbc4"
    }
   },
   "outputs": [
    {
     "name": "stdout",
     "output_type": "stream",
     "text": [
      "showing info https://raw.githubusercontent.com/nltk/nltk_data/gh-pages/index.xml\n"
     ]
    }
   ],
   "source": [
    "#nltk.download()"
   ]
  },
  {
   "cell_type": "markdown",
   "metadata": {
    "nbpresent": {
     "id": "1f0e1a80-3c4d-4452-84c9-29c39131d79e"
    }
   },
   "source": [
    " 한국형 말뭉치 : 21세기 세종계획의 설계"
   ]
  },
  {
   "cell_type": "markdown",
   "metadata": {
    "nbpresent": {
     "id": "bb7e8123-1ed3-4b03-8b5d-3dacfe7332d2"
    }
   },
   "source": [
    "<img src=\"aa.png\" width=\"800\"><BR>"
   ]
  },
  {
   "cell_type": "markdown",
   "metadata": {
    "nbpresent": {
     "id": "b3cc6a22-cb73-434c-8a96-37bf358fb274"
    }
   },
   "source": [
    "자료를 다운 받을 수 있는 곳\n",
    "\n",
    "http://ithub.korean.go.kr/user/guide/corpus/guide1.do"
   ]
  },
  {
   "cell_type": "markdown",
   "metadata": {
    "nbpresent": {
     "id": "647caba5-d671-4341-8b03-2c27286e0e73"
    }
   },
   "source": [
    "제 컴퓨터에서 21세기 세종계획의 말뭉치 파일을 불러보겠습니다. "
   ]
  },
  {
   "cell_type": "markdown",
   "metadata": {
    "collapsed": true,
    "nbpresent": {
     "id": "e0be8ce5-46cf-41ef-bfd5-225c198d51fa"
    }
   },
   "source": [
    "<img src=\"a.png\" width=\"800\"><BR>"
   ]
  },
  {
   "cell_type": "markdown",
   "metadata": {
    "nbpresent": {
     "id": "54288354-8a39-4742-ade9-55e581c7a401"
    }
   },
   "source": [
    "형태소분석 말뭉치를 까 봅시다. "
   ]
  },
  {
   "cell_type": "markdown",
   "metadata": {
    "collapsed": true,
    "nbpresent": {
     "id": "26744544-8d0d-42f9-a599-2a5d82aa85fc"
    }
   },
   "source": [
    "<img src=\"b.png\" width=\"800\"><BR>"
   ]
  },
  {
   "cell_type": "markdown",
   "metadata": {
    "nbpresent": {
     "id": "67273926-2204-45ea-ac50-ac3325f5705e"
    }
   },
   "source": [
    "다음과 같이 한 줄 한 줄 형태소 분석을 해 놓고 tag도 달아놓았습니다.\n"
   ]
  },
  {
   "cell_type": "markdown",
   "metadata": {
    "collapsed": true,
    "nbpresent": {
     "id": "f1772d9c-a6f9-4113-9e39-fecb0fedc48a"
    }
   },
   "source": [
    "<img src=\"c.png\" width=\"800\"><BR>"
   ]
  },
  {
   "cell_type": "markdown",
   "metadata": {
    "nbpresent": {
     "id": "40ae9b90-aa28-4505-ac8b-df7ee41a2a1e"
    }
   },
   "source": [
    "세종21계획 말뭉치 역시 \n",
    "\n",
    "Corpus Markup \n",
    "\n",
    "Parsing\n",
    "\n",
    "Tagging\n",
    "\n",
    "등으로 구성되어 있습니다. 품사 정보는 다음(kkma.snu.ac.kr/)을 참고하세요 \n",
    "\n"
   ]
  },
  {
   "cell_type": "markdown",
   "metadata": {
    "nbpresent": {
     "id": "180b76a4-57bc-4a8f-b5b9-07f766a4f10d"
    }
   },
   "source": [
    "<img src=\"pos.png\" width=\"800\"><BR>"
   ]
  },
  {
   "cell_type": "markdown",
   "metadata": {
    "nbpresent": {
     "id": "80fa9349-b8a2-44f4-93a1-4c2516dfb9f4"
    }
   },
   "source": [
    "파이썬에서 불러오는 방식은 다음과 같습니다. kkma(꼬꼬마)라고 부릅니다. "
   ]
  },
  {
   "cell_type": "code",
   "execution_count": 23,
   "metadata": {
    "collapsed": false,
    "nbpresent": {
     "id": "7a8c44ce-b449-4b83-beaf-d911e5a336b1"
    }
   },
   "outputs": [],
   "source": [
    "from konlpy.tag import kkma"
   ]
  },
  {
   "cell_type": "code",
   "execution_count": 21,
   "metadata": {
    "collapsed": true,
    "nbpresent": {
     "id": "9c8dcec8-bfb4-4ba3-8fc2-8b84dfd05321"
    }
   },
   "outputs": [],
   "source": [
    "from konlpy.utils import pprint"
   ]
  },
  {
   "cell_type": "markdown",
   "metadata": {
    "nbpresent": {
     "id": "5a2cd301-c1fc-4e43-9bfa-736b6c32c634"
    }
   },
   "source": [
    "최근에 \"ㅋㅋㅋ\"등도 분석해내는 트위터 분석기도 써보시면 좋을 듯 합니다.\n"
   ]
  },
  {
   "cell_type": "markdown",
   "metadata": {
    "collapsed": false,
    "nbpresent": {
     "id": "c302b1b7-69ba-4d35-9518-f316c9cbdcee"
    }
   },
   "source": [
    "twitter = Twitter()"
   ]
  },
  {
   "cell_type": "markdown",
   "metadata": {
    "collapsed": true,
    "nbpresent": {
     "id": "d24c0387-e8a3-48ea-93af-a8175827288b"
    }
   },
   "source": [
    "주석을 처리하는 또 다른 방식: \n",
    "\n",
    "Part-of-speech (POS)\n",
    "\n",
    "Lemmatization\n",
    "\n",
    "Syntactical (parsing)\n",
    "\n",
    "Semantic (domain classifications)\n",
    "\n",
    "Coreference (Discourse)\n",
    "\n",
    "Pragmatic (Speech acts – dialogue)\n",
    "\n",
    "Stylistic\n",
    "\n",
    "Research specific (ad hoc)\n"
   ]
  },
  {
   "cell_type": "markdown",
   "metadata": {
    "nbpresent": {
     "id": "08b4630a-feb8-4b69-bf69-a63b339eb65c"
    }
   },
   "source": [
    "의미 주석 말뭉치/온톨로지\n"
   ]
  },
  {
   "cell_type": "markdown",
   "metadata": {
    "nbpresent": {
     "id": "d3e1c9ad-faaa-40e1-897b-89123b8d5a2e"
    }
   },
   "source": [
    "<img src=\"tox.png\" width=\"800\"><BR>"
   ]
  },
  {
   "cell_type": "markdown",
   "metadata": {
    "nbpresent": {
     "id": "f191e3f9-4d60-473a-b02a-f7672dd8ecac"
    }
   },
   "source": [
    "\n",
    "Text Analytics - Latent Semantic Analysis\n",
    "\n",
    "https://www.youtube.com/watch?v=BJ0MnawUpaU"
   ]
  },
  {
   "cell_type": "markdown",
   "metadata": {
    "nbpresent": {
     "id": "9c520524-0f7e-4429-b7ce-1434d2ffae50"
    }
   },
   "source": [
    " 무엇을 할 것인가?\n",
    " \n",
    " 내가 원하는 트레이닝 세트를 만드는 것을 코퍼스 구축이라 생각해도 괜찮음\n",
    " <img src=\"senti.png\" width=\"800\"><BR>\n",
    " \n",
    " \n",
    " \n",
    " \n",
    " "
   ]
  },
  {
   "cell_type": "markdown",
   "metadata": {
    "nbpresent": {
     "id": "f06da32e-5e79-4407-89c8-a3fbfb9db0fb"
    }
   },
   "source": [
    "감사합니다."
   ]
  },
  {
   "cell_type": "markdown",
   "metadata": {
    "nbpresent": {
     "id": "48939305-4bbd-417e-ac41-a5da801af927"
    }
   },
   "source": [
    "참고링크\n",
    "\n",
    " British National Corpus: http://www.natcorp.ox.ac.uk/\n",
    "\n",
    "파이썬 사용자를 위한 영어 코퍼스: http://www.nltk.org/\n",
    "NLTK Corpora:   http://www.nltk.org/nltk_data/\n",
    "21세기 세종계획 인터넷 검색 : http://124.137.201.234:8080/\n",
    "tox: http://www.opentox.org/dev/Ontology/Toxicological%20Ontology\n",
    "파이썬 한국어 : http://konlpy.org/ko/v0.4.3/\n",
    "장재영, 온라인 쇼핑몰의 상품평 자동분류를 위한 감성분석 알고리즘\n"
   ]
  },
  {
   "cell_type": "markdown",
   "metadata": {
    "nbpresent": {
     "id": "dfe3d809-22a5-46e2-8f5c-c199e8d2d199"
    }
   },
   "source": [
    "참고서적\n",
    "\n",
    "James Pustejovsky and Amber Stubbs, Natural Language Annotation for Machine Learning"
   ]
  },
  {
   "cell_type": "code",
   "execution_count": null,
   "metadata": {
    "collapsed": true
   },
   "outputs": [],
   "source": []
  }
 ],
 "metadata": {
  "anaconda-cloud": {},
  "kernelspec": {
   "display_name": "Python 2",
   "language": "python",
   "name": "python2"
  },
  "language_info": {
   "codemirror_mode": {
    "name": "ipython",
    "version": 2
   },
   "file_extension": ".py",
   "mimetype": "text/x-python",
   "name": "python",
   "nbconvert_exporter": "python",
   "pygments_lexer": "ipython2",
   "version": "2.7.6"
  },
  "nbpresent": {
   "slides": {
    "12c965fd-6881-4fb1-80d2-3272d3aece63": {
     "id": "12c965fd-6881-4fb1-80d2-3272d3aece63",
     "prev": "1ca3bcc5-8921-42ff-a48a-21290f0e39bd",
     "regions": {
      "764288f5-dd69-49f5-95a9-c35170551671": {
       "attrs": {
        "height": 0.8,
        "width": 0.8,
        "x": 0.1,
        "y": 0.1
       },
       "content": {
        "cell": "4a436b94-0c03-4dcc-9a8c-214d26158666",
        "part": "whole"
       },
       "id": "764288f5-dd69-49f5-95a9-c35170551671"
      }
     }
    },
    "13c2f07b-f4c4-4805-be7e-b9b846d9ff45": {
     "id": "13c2f07b-f4c4-4805-be7e-b9b846d9ff45",
     "prev": "7621ea1f-defb-4269-b1ad-bef7b59451bf",
     "regions": {
      "72f5fbc5-ca2d-4159-8797-cd2149b4e92e": {
       "attrs": {
        "height": 0.8,
        "width": 0.8,
        "x": 0.1,
        "y": 0.1
       },
       "content": {
        "cell": "80fa9349-b8a2-44f4-93a1-4c2516dfb9f4",
        "part": "whole"
       },
       "id": "72f5fbc5-ca2d-4159-8797-cd2149b4e92e"
      }
     }
    },
    "1b728214-8d45-4a7a-8cfe-a7ba0365b0ee": {
     "id": "1b728214-8d45-4a7a-8cfe-a7ba0365b0ee",
     "prev": "12c965fd-6881-4fb1-80d2-3272d3aece63",
     "regions": {
      "dea80b0d-70ef-4eee-94e5-cb33fca4e183": {
       "attrs": {
        "height": 0.8,
        "width": 0.8,
        "x": 0.1,
        "y": 0.1
       },
       "content": {
        "cell": "71316c46-1e8e-4da5-b073-7089a37ca4a3",
        "part": "whole"
       },
       "id": "dea80b0d-70ef-4eee-94e5-cb33fca4e183"
      }
     }
    },
    "1bf939fa-df29-4d98-8ba0-48ec407078c4": {
     "id": "1bf939fa-df29-4d98-8ba0-48ec407078c4",
     "prev": "92fa2afb-c2ef-4adf-ba1e-5ba2f3009ae3",
     "regions": {
      "3e29233e-92c6-49c3-b08d-23ec232929db": {
       "attrs": {
        "height": 0.8,
        "width": 0.8,
        "x": 0.1,
        "y": 0.1
       },
       "content": {
        "cell": "1f0e1a80-3c4d-4452-84c9-29c39131d79e",
        "part": "whole"
       },
       "id": "3e29233e-92c6-49c3-b08d-23ec232929db"
      }
     }
    },
    "1c74dc17-4219-4342-9a22-8c52cdbcbb64": {
     "id": "1c74dc17-4219-4342-9a22-8c52cdbcbb64",
     "prev": "5ba45c64-a509-46b9-bd10-61949fb060b3",
     "regions": {
      "a34e3ed7-053a-43a3-86d3-85b5912e54e7": {
       "attrs": {
        "height": 0.8,
        "width": 0.8,
        "x": 0.1,
        "y": 0.1
       },
       "content": {
        "cell": "647caba5-d671-4341-8b03-2c27286e0e73",
        "part": "whole"
       },
       "id": "a34e3ed7-053a-43a3-86d3-85b5912e54e7"
      }
     }
    },
    "1ca3bcc5-8921-42ff-a48a-21290f0e39bd": {
     "id": "1ca3bcc5-8921-42ff-a48a-21290f0e39bd",
     "prev": "51a17183-b892-431b-81a2-e1cc8b23528f",
     "regions": {
      "f9ff5051-fcc3-450b-b8e5-e690edbbc5f5": {
       "attrs": {
        "height": 0.8,
        "width": 0.8,
        "x": 0.1,
        "y": 0.1
       },
       "content": {
        "cell": "bc0a7adb-8d37-4cb3-83e0-0d167c84a009",
        "part": "whole"
       },
       "id": "f9ff5051-fcc3-450b-b8e5-e690edbbc5f5"
      }
     }
    },
    "20d5651d-e3e8-4f38-9a3b-6a59fb365393": {
     "id": "20d5651d-e3e8-4f38-9a3b-6a59fb365393",
     "prev": "a20909bc-b2f5-496e-8d0f-430344a78f3d",
     "regions": {
      "589fea09-7ba9-45e9-9018-9068af929552": {
       "attrs": {
        "height": 0.8,
        "width": 0.8,
        "x": 0.1,
        "y": 0.1
       },
       "content": {
        "cell": "49cf32d4-d417-46bf-8580-d1b226d47fb7",
        "part": "whole"
       },
       "id": "589fea09-7ba9-45e9-9018-9068af929552"
      }
     }
    },
    "25d6685d-7e30-486d-8e27-dc576ac6cd1d": {
     "id": "25d6685d-7e30-486d-8e27-dc576ac6cd1d",
     "prev": "9fda8edf-6723-46ce-aea8-46ee7f2608f9",
     "regions": {
      "773600fe-bc1c-48d5-9554-f5f95f018f62": {
       "attrs": {
        "height": 0.8,
        "width": 0.8,
        "x": 0.1,
        "y": 0.1
       },
       "content": {
        "cell": "9c8dcec8-bfb4-4ba3-8fc2-8b84dfd05321",
        "part": "whole"
       },
       "id": "773600fe-bc1c-48d5-9554-f5f95f018f62"
      }
     }
    },
    "2be4afbf-33be-462c-89ee-2869658d211a": {
     "id": "2be4afbf-33be-462c-89ee-2869658d211a",
     "prev": "8f8bfe82-2d11-43f7-9eab-1d0f895305eb",
     "regions": {
      "84dfc1a2-2b94-4b23-a41d-fb150caed170": {
       "attrs": {
        "height": 0.8,
        "width": 0.8,
        "x": 0.1,
        "y": 0.1
       },
       "content": {
        "cell": "f1772d9c-a6f9-4113-9e39-fecb0fedc48a",
        "part": "whole"
       },
       "id": "84dfc1a2-2b94-4b23-a41d-fb150caed170"
      }
     }
    },
    "2ce3c14e-28ac-419a-8f79-886f023c05ff": {
     "id": "2ce3c14e-28ac-419a-8f79-886f023c05ff",
     "prev": "3ad4b8a1-e112-45a9-8c42-49fb87a6ecff",
     "regions": {
      "78dc315c-4201-441d-a92c-2577b18c563a": {
       "attrs": {
        "height": 0.8,
        "width": 0.8,
        "x": 0.1,
        "y": 0.1
       },
       "content": {
        "cell": "9c520524-0f7e-4429-b7ce-1434d2ffae50",
        "part": "whole"
       },
       "id": "78dc315c-4201-441d-a92c-2577b18c563a"
      }
     }
    },
    "2e745068-764d-4510-a846-f1bbbf0d91dc": {
     "id": "2e745068-764d-4510-a846-f1bbbf0d91dc",
     "prev": "8085628c-a600-495b-aa3e-0607c4966dd2",
     "regions": {
      "5c35d614-fa3a-4ebb-ba58-ba5de2f83e77": {
       "attrs": {
        "height": 0.8,
        "width": 0.8,
        "x": 0.1,
        "y": 0.1
       },
       "content": {
        "cell": "c302b1b7-69ba-4d35-9518-f316c9cbdcee",
        "part": "whole"
       },
       "id": "5c35d614-fa3a-4ebb-ba58-ba5de2f83e77"
      }
     }
    },
    "3ad4b8a1-e112-45a9-8c42-49fb87a6ecff": {
     "id": "3ad4b8a1-e112-45a9-8c42-49fb87a6ecff",
     "prev": "78c52612-bf71-4955-8e9a-1117e4e09b97",
     "regions": {
      "f6445b17-d248-4398-93e6-43bbc7bdca61": {
       "attrs": {
        "height": 0.8,
        "width": 0.8,
        "x": 0.1,
        "y": 0.1
       },
       "content": {
        "cell": "f191e3f9-4d60-473a-b02a-f7672dd8ecac",
        "part": "whole"
       },
       "id": "f6445b17-d248-4398-93e6-43bbc7bdca61"
      }
     }
    },
    "42298b6f-5d98-4005-880d-efdb5a9bf2d8": {
     "id": "42298b6f-5d98-4005-880d-efdb5a9bf2d8",
     "prev": "1bf939fa-df29-4d98-8ba0-48ec407078c4",
     "regions": {
      "7073177b-682c-4ada-b5b3-8a8bb850fcff": {
       "attrs": {
        "height": 0.8,
        "width": 0.8,
        "x": 0.1,
        "y": 0.1
       },
       "content": {
        "cell": "bb7e8123-1ed3-4b03-8b5d-3dacfe7332d2",
        "part": "whole"
       },
       "id": "7073177b-682c-4ada-b5b3-8a8bb850fcff"
      }
     }
    },
    "42c092a1-fda4-452c-8f47-eb33249b81b0": {
     "id": "42c092a1-fda4-452c-8f47-eb33249b81b0",
     "prev": "ec892fd2-511a-43c6-adf8-3fa7e0165a37",
     "regions": {
      "78221aa9-a7cc-4f31-81b5-8147b6266320": {
       "attrs": {
        "height": 0.8,
        "width": 0.8,
        "x": 0.1,
        "y": 0.1
       },
       "content": {
        "cell": "94322e2e-ecf5-41ad-93fa-d665c77c006d",
        "part": "whole"
       },
       "id": "78221aa9-a7cc-4f31-81b5-8147b6266320"
      }
     }
    },
    "4d8043be-261a-41aa-837d-787da1bbdef9": {
     "id": "4d8043be-261a-41aa-837d-787da1bbdef9",
     "prev": "9fc6d2ef-f881-4d9d-8db9-28f75657ca30",
     "regions": {
      "83d72377-5053-44ee-b651-e19db9f9c09c": {
       "attrs": {
        "height": 0.8,
        "width": 0.8,
        "x": 0.1,
        "y": 0.1
       },
       "content": {
        "cell": "42bbcd27-9cae-42de-9727-254df430af8b",
        "part": "whole"
       },
       "id": "83d72377-5053-44ee-b651-e19db9f9c09c"
      }
     }
    },
    "512cd517-52b7-4913-a262-d91c4d980357": {
     "id": "512cd517-52b7-4913-a262-d91c4d980357",
     "prev": "b529dbf5-62a1-4b67-af17-5b9924ef3233",
     "regions": {
      "1931f5ac-0eff-4e52-98b6-71a13fbea329": {
       "attrs": {
        "height": 0.8,
        "width": 0.8,
        "x": 0.1,
        "y": 0.1
       },
       "content": {
        "cell": "54288354-8a39-4742-ade9-55e581c7a401",
        "part": "whole"
       },
       "id": "1931f5ac-0eff-4e52-98b6-71a13fbea329"
      }
     }
    },
    "51a17183-b892-431b-81a2-e1cc8b23528f": {
     "id": "51a17183-b892-431b-81a2-e1cc8b23528f",
     "prev": "90bf49d4-bdc2-49d0-9cdd-b80cdc7a761f",
     "regions": {
      "4c584fa9-92b7-4e5f-b0cc-e5ff42e5f88d": {
       "attrs": {
        "height": 0.8,
        "width": 0.8,
        "x": 0.1,
        "y": 0.1
       },
       "content": {
        "cell": "94dea4e0-b57e-4487-ad72-7e2c05155e73",
        "part": "whole"
       },
       "id": "4c584fa9-92b7-4e5f-b0cc-e5ff42e5f88d"
      }
     }
    },
    "5ba45c64-a509-46b9-bd10-61949fb060b3": {
     "id": "5ba45c64-a509-46b9-bd10-61949fb060b3",
     "prev": "42298b6f-5d98-4005-880d-efdb5a9bf2d8",
     "regions": {
      "c3b4ddff-66f6-4a32-bcf9-31771d70b876": {
       "attrs": {
        "height": 0.8,
        "width": 0.8,
        "x": 0.1,
        "y": 0.1
       },
       "content": {
        "cell": "b3cc6a22-cb73-434c-8a96-37bf358fb274",
        "part": "whole"
       },
       "id": "c3b4ddff-66f6-4a32-bcf9-31771d70b876"
      }
     }
    },
    "614ef556-4dae-4042-9c55-4a36b48f5a8b": {
     "id": "614ef556-4dae-4042-9c55-4a36b48f5a8b",
     "prev": "b2912a5e-1fb7-41be-9a3d-04b2c77f99b6",
     "regions": {
      "fc7a016e-cb11-4ece-8266-cc5ec01b61b9": {
       "attrs": {
        "height": 0.8,
        "width": 0.8,
        "x": 0.1,
        "y": 0.1
       },
       "content": {
        "cell": "48939305-4bbd-417e-ac41-a5da801af927",
        "part": "whole"
       },
       "id": "fc7a016e-cb11-4ece-8266-cc5ec01b61b9"
      }
     }
    },
    "68ec09f2-5ee0-4cb1-9a95-cd4ad96fd456": {
     "id": "68ec09f2-5ee0-4cb1-9a95-cd4ad96fd456",
     "prev": "f20859fd-6f49-448d-afab-33aca38a9cc0",
     "regions": {
      "a39679e7-4e50-4304-90cc-1b4ea7fd16c3": {
       "attrs": {
        "height": 0.8,
        "width": 0.8,
        "x": 0.1,
        "y": 0.1
       },
       "content": {
        "cell": "08b4630a-feb8-4b69-bf69-a63b339eb65c",
        "part": "whole"
       },
       "id": "a39679e7-4e50-4304-90cc-1b4ea7fd16c3"
      }
     }
    },
    "7621ea1f-defb-4269-b1ad-bef7b59451bf": {
     "id": "7621ea1f-defb-4269-b1ad-bef7b59451bf",
     "prev": "c72dea67-f5df-4d2b-af37-df7d44f93e5c",
     "regions": {
      "5d884c27-9e74-401b-bffd-db51599fc527": {
       "attrs": {
        "height": 0.8,
        "width": 0.8,
        "x": 0.1,
        "y": 0.1
       },
       "content": {
        "cell": "180b76a4-57bc-4a8f-b5b9-07f766a4f10d",
        "part": "whole"
       },
       "id": "5d884c27-9e74-401b-bffd-db51599fc527"
      }
     }
    },
    "78c52612-bf71-4955-8e9a-1117e4e09b97": {
     "id": "78c52612-bf71-4955-8e9a-1117e4e09b97",
     "prev": "68ec09f2-5ee0-4cb1-9a95-cd4ad96fd456",
     "regions": {
      "b6554dfb-69c6-4d11-a93d-720617ac03df": {
       "attrs": {
        "height": 0.8,
        "width": 0.8,
        "x": 0.1,
        "y": 0.1
       },
       "content": {
        "cell": "d3e1c9ad-faaa-40e1-897b-89123b8d5a2e",
        "part": "whole"
       },
       "id": "b6554dfb-69c6-4d11-a93d-720617ac03df"
      }
     }
    },
    "8085628c-a600-495b-aa3e-0607c4966dd2": {
     "id": "8085628c-a600-495b-aa3e-0607c4966dd2",
     "prev": "25d6685d-7e30-486d-8e27-dc576ac6cd1d",
     "regions": {
      "53a15af4-a2b9-477d-b3dd-cbce7e6584d4": {
       "attrs": {
        "height": 0.8,
        "width": 0.8,
        "x": 0.1,
        "y": 0.1
       },
       "content": {
        "cell": "5a2cd301-c1fc-4e43-9bfa-736b6c32c634",
        "part": "whole"
       },
       "id": "53a15af4-a2b9-477d-b3dd-cbce7e6584d4"
      }
     }
    },
    "8f8bfe82-2d11-43f7-9eab-1d0f895305eb": {
     "id": "8f8bfe82-2d11-43f7-9eab-1d0f895305eb",
     "prev": "b25d0776-a8ae-4c6a-8cfd-fc8848c497f2",
     "regions": {
      "863fa0b9-7f07-4fe0-b2fe-2ce9c3eb03fe": {
       "attrs": {
        "height": 0.8,
        "width": 0.8,
        "x": 0.1,
        "y": 0.1
       },
       "content": {
        "cell": "67273926-2204-45ea-ac50-ac3325f5705e",
        "part": "whole"
       },
       "id": "863fa0b9-7f07-4fe0-b2fe-2ce9c3eb03fe"
      }
     }
    },
    "90bf49d4-bdc2-49d0-9cdd-b80cdc7a761f": {
     "id": "90bf49d4-bdc2-49d0-9cdd-b80cdc7a761f",
     "prev": "4d8043be-261a-41aa-837d-787da1bbdef9",
     "regions": {
      "6ad48bf0-b3e6-4942-a53b-dfef0c779c30": {
       "attrs": {
        "height": 0.8,
        "width": 0.8,
        "x": 0.1,
        "y": 0.1
       },
       "content": {
        "cell": "b7193838-5892-4ea0-a076-aced526f7a37",
        "part": "whole"
       },
       "id": "6ad48bf0-b3e6-4942-a53b-dfef0c779c30"
      }
     }
    },
    "92fa2afb-c2ef-4adf-ba1e-5ba2f3009ae3": {
     "id": "92fa2afb-c2ef-4adf-ba1e-5ba2f3009ae3",
     "prev": "20d5651d-e3e8-4f38-9a3b-6a59fb365393",
     "regions": {
      "0a197d20-9268-45fc-89f2-abdcd6094094": {
       "attrs": {
        "height": 0.8,
        "width": 0.8,
        "x": 0.1,
        "y": 0.1
       },
       "content": {
        "cell": "c9020845-89d9-46e3-a40b-974278d7bbc4",
        "part": "whole"
       },
       "id": "0a197d20-9268-45fc-89f2-abdcd6094094"
      }
     }
    },
    "9fc6d2ef-f881-4d9d-8db9-28f75657ca30": {
     "id": "9fc6d2ef-f881-4d9d-8db9-28f75657ca30",
     "prev": null,
     "regions": {
      "7a5aa19d-3c7c-4d49-bdf9-d5c1f45fa0dc": {
       "attrs": {
        "height": 0.8,
        "width": 0.8,
        "x": 0.1,
        "y": 0.1
       },
       "content": {
        "cell": "9cc2d55a-3ce1-45de-a0f6-09084ce461fe",
        "part": "whole"
       },
       "id": "7a5aa19d-3c7c-4d49-bdf9-d5c1f45fa0dc"
      }
     }
    },
    "9fda8edf-6723-46ce-aea8-46ee7f2608f9": {
     "id": "9fda8edf-6723-46ce-aea8-46ee7f2608f9",
     "prev": "13c2f07b-f4c4-4805-be7e-b9b846d9ff45",
     "regions": {
      "d50b3fb9-5d3d-42b3-b30f-0fd457421f5d": {
       "attrs": {
        "height": 0.8,
        "width": 0.8,
        "x": 0.1,
        "y": 0.1
       },
       "content": {
        "cell": "7a8c44ce-b449-4b83-beaf-d911e5a336b1",
        "part": "whole"
       },
       "id": "d50b3fb9-5d3d-42b3-b30f-0fd457421f5d"
      }
     }
    },
    "a20909bc-b2f5-496e-8d0f-430344a78f3d": {
     "id": "a20909bc-b2f5-496e-8d0f-430344a78f3d",
     "prev": "42c092a1-fda4-452c-8f47-eb33249b81b0",
     "regions": {
      "4e5538a4-802d-4ffd-90d2-ed849e890796": {
       "attrs": {
        "height": 0.8,
        "width": 0.8,
        "x": 0.1,
        "y": 0.1
       },
       "content": {
        "cell": "e6899fb4-82d5-4130-bd34-687a8c9c6035",
        "part": "whole"
       },
       "id": "4e5538a4-802d-4ffd-90d2-ed849e890796"
      }
     }
    },
    "a424a9b4-9573-43a7-84aa-79645b170195": {
     "id": "a424a9b4-9573-43a7-84aa-79645b170195",
     "prev": "1b728214-8d45-4a7a-8cfe-a7ba0365b0ee",
     "regions": {
      "ac399a52-2025-4c9d-a709-6748409fb459": {
       "attrs": {
        "height": 0.8,
        "width": 0.8,
        "x": 0.1,
        "y": 0.1
       },
       "content": {
        "cell": "8ab12435-55eb-485b-b476-bbb7fa1d9170",
        "part": "whole"
       },
       "id": "ac399a52-2025-4c9d-a709-6748409fb459"
      }
     }
    },
    "b25d0776-a8ae-4c6a-8cfd-fc8848c497f2": {
     "id": "b25d0776-a8ae-4c6a-8cfd-fc8848c497f2",
     "prev": "512cd517-52b7-4913-a262-d91c4d980357",
     "regions": {
      "b800bcae-3d89-4057-991e-ef1e85b485ac": {
       "attrs": {
        "height": 0.8,
        "width": 0.8,
        "x": 0.1,
        "y": 0.1
       },
       "content": {
        "cell": "26744544-8d0d-42f9-a599-2a5d82aa85fc",
        "part": "whole"
       },
       "id": "b800bcae-3d89-4057-991e-ef1e85b485ac"
      }
     }
    },
    "b2912a5e-1fb7-41be-9a3d-04b2c77f99b6": {
     "id": "b2912a5e-1fb7-41be-9a3d-04b2c77f99b6",
     "prev": "2ce3c14e-28ac-419a-8f79-886f023c05ff",
     "regions": {
      "3c428d71-cc0e-4786-9167-45179c4f8340": {
       "attrs": {
        "height": 0.8,
        "width": 0.8,
        "x": 0.1,
        "y": 0.1
       },
       "content": {
        "cell": "f06da32e-5e79-4407-89c8-a3fbfb9db0fb",
        "part": "whole"
       },
       "id": "3c428d71-cc0e-4786-9167-45179c4f8340"
      }
     }
    },
    "b529dbf5-62a1-4b67-af17-5b9924ef3233": {
     "id": "b529dbf5-62a1-4b67-af17-5b9924ef3233",
     "prev": "1c74dc17-4219-4342-9a22-8c52cdbcbb64",
     "regions": {
      "67d09d26-49f9-461d-91af-b57edafdc982": {
       "attrs": {
        "height": 0.8,
        "width": 0.8,
        "x": 0.1,
        "y": 0.1
       },
       "content": {
        "cell": "e0be8ce5-46cf-41ef-bfd5-225c198d51fa",
        "part": "whole"
       },
       "id": "67d09d26-49f9-461d-91af-b57edafdc982"
      }
     }
    },
    "c72dea67-f5df-4d2b-af37-df7d44f93e5c": {
     "id": "c72dea67-f5df-4d2b-af37-df7d44f93e5c",
     "prev": "2be4afbf-33be-462c-89ee-2869658d211a",
     "regions": {
      "91dbddbb-7a61-4d80-a905-ed654e0e78d9": {
       "attrs": {
        "height": 0.8,
        "width": 0.8,
        "x": 0.1,
        "y": 0.1
       },
       "content": {
        "cell": "40ae9b90-aa28-4505-ac8b-df7ee41a2a1e",
        "part": "whole"
       },
       "id": "91dbddbb-7a61-4d80-a905-ed654e0e78d9"
      }
     }
    },
    "ec892fd2-511a-43c6-adf8-3fa7e0165a37": {
     "id": "ec892fd2-511a-43c6-adf8-3fa7e0165a37",
     "prev": "f7f4edd8-4592-470c-bfc9-5e36c62b2866",
     "regions": {
      "308d09ad-f815-4f16-ac82-d9fc0012760d": {
       "attrs": {
        "height": 0.8,
        "width": 0.8,
        "x": 0.1,
        "y": 0.1
       },
       "content": {
        "cell": "56945d0a-cabd-4c90-8b97-dca035961d29",
        "part": "whole"
       },
       "id": "308d09ad-f815-4f16-ac82-d9fc0012760d"
      }
     }
    },
    "f20859fd-6f49-448d-afab-33aca38a9cc0": {
     "id": "f20859fd-6f49-448d-afab-33aca38a9cc0",
     "prev": "2e745068-764d-4510-a846-f1bbbf0d91dc",
     "regions": {
      "c4a2adfa-ef5a-48e2-84cc-c032ab38aeba": {
       "attrs": {
        "height": 0.8,
        "width": 0.8,
        "x": 0.1,
        "y": 0.1
       },
       "content": {
        "cell": "d24c0387-e8a3-48ea-93af-a8175827288b",
        "part": "whole"
       },
       "id": "c4a2adfa-ef5a-48e2-84cc-c032ab38aeba"
      }
     }
    },
    "f7f4edd8-4592-470c-bfc9-5e36c62b2866": {
     "id": "f7f4edd8-4592-470c-bfc9-5e36c62b2866",
     "prev": "a424a9b4-9573-43a7-84aa-79645b170195",
     "regions": {
      "884071c4-0603-4594-8303-96a4fe251102": {
       "attrs": {
        "height": 0.8,
        "width": 0.8,
        "x": 0.1,
        "y": 0.1
       },
       "content": {
        "cell": "9fe546e6-0848-4ba1-95a9-710b4e37f895",
        "part": "whole"
       },
       "id": "884071c4-0603-4594-8303-96a4fe251102"
      }
     }
    },
    "f9c1b817-2df2-4d54-8f36-272315cdd764": {
     "id": "f9c1b817-2df2-4d54-8f36-272315cdd764",
     "prev": "614ef556-4dae-4042-9c55-4a36b48f5a8b",
     "regions": {
      "7691f500-d85b-4ac5-a445-9a1e29d94d2c": {
       "attrs": {
        "height": 0.8,
        "width": 0.8,
        "x": 0.1,
        "y": 0.1
       },
       "content": {
        "cell": "dfe3d809-22a5-46e2-8f5c-c199e8d2d199",
        "part": "whole"
       },
       "id": "7691f500-d85b-4ac5-a445-9a1e29d94d2c"
      }
     }
    }
   },
   "themes": {}
  }
 },
 "nbformat": 4,
 "nbformat_minor": 0
}
