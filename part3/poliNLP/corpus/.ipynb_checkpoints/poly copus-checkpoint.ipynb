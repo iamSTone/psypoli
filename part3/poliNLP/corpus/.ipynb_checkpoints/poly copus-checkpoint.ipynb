{
 "cells": [
  {
   "cell_type": "code",
   "execution_count": null,
   "metadata": {
    "collapsed": true
   },
   "outputs": [],
   "source": [
    "#싸이폴리 코퍼스 구축"
   ]
  },
  {
   "cell_type": "code",
   "execution_count": null,
   "metadata": {
    "collapsed": true
   },
   "outputs": [],
   "source": [
    "놀러온 발제자 송영숙"
   ]
  },
  {
   "cell_type": "code",
   "execution_count": null,
   "metadata": {
    "collapsed": true
   },
   "outputs": [],
   "source": [
    "NLP (Natural Language Processing, 자연어처리)스터디 2년 남짓 하면서 가장 많이 받는 질문 1위:코퍼스가 뭔가요?"
   ]
  },
  {
   "cell_type": "code",
   "execution_count": null,
   "metadata": {
    "collapsed": true
   },
   "outputs": [],
   "source": [
    "오늘의 목표\n",
    "1) 코퍼스를 실전으로 이해한다.\n",
    "2) annotation의 개념을 익힌다. \n",
    "3) pos-tagger을 해본다.\n",
    "4) 의미 분석이란 무엇인지 알아본다. \n",
    "5) 이 모든 것이 알고 보면 그리 어렵지 않고 그냥 노가다라는 것을 알게 된다. "
   ]
  },
  {
   "cell_type": "markdown",
   "metadata": {},
   "source": [
    "말뭉치(corpus)의 정의\n",
    "   - 일정 규모 이상의 크기를 갖추고 그 시대의 언어 현실을 골고루 반영한 컴퓨터가 읽을 수 있는 형태로 저장된 국어자료의 집합체"
   ]
  },
  {
   "cell_type": "code",
   "execution_count": null,
   "metadata": {
    "collapsed": true
   },
   "outputs": [],
   "source": [
    "일단, 파이썬에서 코퍼스를 불러 봅시다. "
   ]
  },
  {
   "cell_type": "code",
   "execution_count": 32,
   "metadata": {
    "collapsed": true
   },
   "outputs": [],
   "source": [
    "from nltk.corpus import brown"
   ]
  },
  {
   "cell_type": "code",
   "execution_count": 33,
   "metadata": {
    "collapsed": false
   },
   "outputs": [],
   "source": [
    "import nltk"
   ]
  },
  {
   "cell_type": "markdown",
   "metadata": {},
   "source": [
    "import brown 이란 무엇일까요?"
   ]
  },
  {
   "cell_type": "markdown",
   "metadata": {},
   "source": [
    "<img src=\"brown.png\" width=\"800\"><BR>"
   ]
  },
  {
   "cell_type": "markdown",
   "metadata": {},
   "source": [
    "내용을 까봅시다: The corpus originally (1961) contained 1,014,312 words sampled from 15 text categories"
   ]
  },
  {
   "cell_type": "markdown",
   "metadata": {},
   "source": [
    "A. PRESS: Reportage (44 texts)\n",
    "Political\n",
    "Sports\n",
    "Society\n",
    "Spot News\n",
    "Financial\n",
    "Cultural\n",
    "\n",
    "\n",
    "\n",
    "B. PRESS: Editorial (27 texts)\n",
    "Institutional Daily\n",
    "Personal\n",
    "Letters to the Editor\n",
    "\n",
    "\n",
    "\n",
    "C. PRESS: Reviews (17 texts)\n",
    "theatre\n",
    "books\n",
    "music\n",
    "dance\n",
    "\n",
    "\n",
    "\n",
    "D. RELIGION (17 texts)\n",
    "Books\n",
    "Periodicals\n",
    "Tracts\n",
    "\n",
    "\n",
    "\n",
    "E. SKILL AND HOBBIES (36 texts)\n",
    "Books\n",
    "Periodicals\n",
    "\n",
    "\n",
    "\n",
    "F. POPULAR LORE (48 texts)\n",
    "Books\n",
    "Periodicals\n",
    "\n",
    "\n",
    "\n",
    "G. BELLES-LETTRES - Biography, Memoirs, etc. (75 texts)\n",
    "Books\n",
    "Periodicals\n",
    "\n",
    "\n",
    "\n",
    "H. MISCELLANEOUS: US Government & House Organs (30 texts)\n",
    "Government Documents\n",
    "Foundation Reports\n",
    "Industry Reports\n",
    "College Catalog\n",
    "Industry House organ\n",
    "\n",
    "\n",
    "\n",
    "J. LEARNED (80 texts)\n",
    "Natural Sciences\n",
    "Medicine\n",
    "Mathematics\n",
    "Social and Behavioral Sciences\n",
    "Political Science, Law, Education\n",
    "Humanities\n",
    "Technology and Engineering\n",
    "\n",
    "\n",
    "\n",
    "\n",
    "K. FICTION: General (29 texts)\n",
    "Novels\n",
    "Short Stories\n",
    "\n",
    "\n",
    "\n",
    "L. FICTION: Mystery and Detective Fiction (24 texts)\n",
    "Novels\n",
    "Short Stories\n",
    "\n",
    "\n",
    "\n",
    "M. FICTION: Science (6 texts)\n",
    "Novels\n",
    "Short Stories\n",
    "\n",
    "\n",
    "\n",
    "N. FICTION: Adventure and Western (29 texts)\n",
    "Novels\n",
    "Short Stories\n",
    "\n",
    "\n",
    "\n",
    "P. FICTION: Romance and Love Story (29 texts)\n",
    "Novels\n",
    "Short Stories\n",
    "\n",
    "\n",
    "\n",
    "R. HUMOR (9 texts)\n",
    "Novels\n",
    "Essays, etc.\n"
   ]
  },
  {
   "cell_type": "markdown",
   "metadata": {},
   "source": [
    "# 한국어 말뭉치를 불러봅시다. "
   ]
  },
  {
   "cell_type": "code",
   "execution_count": null,
   "metadata": {
    "collapsed": false
   },
   "outputs": [
    {
     "name": "stdout",
     "output_type": "stream",
     "text": [
      "showing info https://raw.githubusercontent.com/nltk/nltk_data/gh-pages/index.xml\n"
     ]
    }
   ],
   "source": [
    "#nltk.download()"
   ]
  },
  {
   "cell_type": "markdown",
   "metadata": {},
   "source": [
    " 한국형 말뭉치 : 21세기 세종계획의 설계"
   ]
  },
  {
   "cell_type": "markdown",
   "metadata": {},
   "source": [
    "<img src=\"aa.png\" width=\"800\"><BR>"
   ]
  },
  {
   "cell_type": "markdown",
   "metadata": {},
   "source": [
    "자료를 다운 받을 수 있는 곳\n",
    "\n",
    "http://ithub.korean.go.kr/user/guide/corpus/guide1.do"
   ]
  },
  {
   "cell_type": "markdown",
   "metadata": {},
   "source": [
    "제 컴퓨터에서 21세기 세종계획의 말뭉치 파일을 불러보겠습니다. "
   ]
  },
  {
   "cell_type": "markdown",
   "metadata": {
    "collapsed": true
   },
   "source": [
    "<img src=\"a.png\" width=\"800\"><BR>"
   ]
  },
  {
   "cell_type": "markdown",
   "metadata": {},
   "source": [
    "형태소분석 말뭉치를 까 봅시다. "
   ]
  },
  {
   "cell_type": "markdown",
   "metadata": {
    "collapsed": true
   },
   "source": [
    "<img src=\"b.png\" width=\"800\"><BR>"
   ]
  },
  {
   "cell_type": "markdown",
   "metadata": {},
   "source": [
    "다음과 같이 한 줄 한 줄 형태소 분석을 해 놓고 tag도 달아놓았습니다.\n"
   ]
  },
  {
   "cell_type": "markdown",
   "metadata": {
    "collapsed": true
   },
   "source": [
    "<img src=\"c.png\" width=\"800\"><BR>"
   ]
  },
  {
   "cell_type": "markdown",
   "metadata": {},
   "source": [
    "세종21계획 말뭉치 역시 \n",
    "\n",
    "Corpus Markup \n",
    "\n",
    "Parsing\n",
    "\n",
    "Tagging\n",
    "\n",
    "등으로 구성되어 있습니다. 품사 정보는 다음(kkma.snu.ac.kr/)을 참고하세요 \n",
    "\n"
   ]
  },
  {
   "cell_type": "markdown",
   "metadata": {},
   "source": [
    "<img src=\"pos.png\" width=\"800\"><BR>"
   ]
  },
  {
   "cell_type": "markdown",
   "metadata": {},
   "source": [
    "파이썬에서 불러오는 방식은 다음과 같습니다. kkma(꼬꼬마)라고 부릅니다. "
   ]
  },
  {
   "cell_type": "code",
   "execution_count": 23,
   "metadata": {
    "collapsed": false
   },
   "outputs": [],
   "source": [
    "from konlpy.tag import kkma"
   ]
  },
  {
   "cell_type": "code",
   "execution_count": 21,
   "metadata": {
    "collapsed": true
   },
   "outputs": [],
   "source": [
    "from konlpy.utils import pprint"
   ]
  },
  {
   "cell_type": "markdown",
   "metadata": {},
   "source": [
    "최근에 \"ㅋㅋㅋ\"등도 분석해내는 트위터 분석기도 써보시면 좋을 듯 합니다.\n"
   ]
  },
  {
   "cell_type": "markdown",
   "metadata": {
    "collapsed": false
   },
   "source": [
    "twitter = Twitter()"
   ]
  },
  {
   "cell_type": "markdown",
   "metadata": {
    "collapsed": true
   },
   "source": [
    "주석을 처리하는 또 다른 방식: \n",
    "\n",
    "Part-of-speech (POS)\n",
    "\n",
    "Lemmatization\n",
    "\n",
    "Syntactical (parsing)\n",
    "\n",
    "Semantic (domain classifications)\n",
    "\n",
    "Coreference (Discourse)\n",
    "\n",
    "Pragmatic (Speech acts – dialogue)\n",
    "\n",
    "Stylistic\n",
    "\n",
    "Research specific (ad hoc)\n"
   ]
  },
  {
   "cell_type": "markdown",
   "metadata": {},
   "source": [
    "의미 주석 말뭉치/온톨로지\n"
   ]
  },
  {
   "cell_type": "markdown",
   "metadata": {},
   "source": [
    "<img src=\"tox.png\" width=\"800\"><BR>"
   ]
  },
  {
   "cell_type": "markdown",
   "metadata": {},
   "source": [
    "\n",
    "Text Analytics - Latent Semantic Analysis\n",
    "\n",
    "https://www.youtube.com/watch?v=BJ0MnawUpaU"
   ]
  },
  {
   "cell_type": "markdown",
   "metadata": {},
   "source": [
    "감사합니다."
   ]
  },
  {
   "cell_type": "markdown",
   "metadata": {},
   "source": [
    "참고링크\n",
    "\n",
    " British National Corpus: http://www.natcorp.ox.ac.uk/\n",
    "\n",
    "파이썬 사용자를 위한 영어 코퍼스: http://www.nltk.org/\n",
    "NLTK Corpora:   http://www.nltk.org/nltk_data/\n",
    "21세기 세종계획 인터넷 검색 : http://124.137.201.234:8080/\n",
    "tox: http://www.opentox.org/dev/Ontology/Toxicological%20Ontology\n",
    "\n",
    "\n"
   ]
  },
  {
   "cell_type": "markdown",
   "metadata": {},
   "source": [
    "참고서적\n",
    "\n",
    "James Pustejovsky and Amber Stubbs, Natural Language Annotation for Machine Learning"
   ]
  }
 ],
 "metadata": {
  "anaconda-cloud": {},
  "kernelspec": {
   "display_name": "Python [Root]",
   "language": "python",
   "name": "Python [Root]"
  },
  "language_info": {
   "codemirror_mode": {
    "name": "ipython",
    "version": 3
   },
   "file_extension": ".py",
   "mimetype": "text/x-python",
   "name": "python",
   "nbconvert_exporter": "python",
   "pygments_lexer": "ipython3",
   "version": "3.5.2"
  }
 },
 "nbformat": 4,
 "nbformat_minor": 0
}
